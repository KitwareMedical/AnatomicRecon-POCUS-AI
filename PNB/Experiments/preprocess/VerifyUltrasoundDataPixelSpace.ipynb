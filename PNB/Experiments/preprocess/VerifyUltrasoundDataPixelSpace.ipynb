{
 "cells": [
  {
   "cell_type": "code",
   "execution_count": 7,
   "id": "3acaf220",
   "metadata": {},
   "outputs": [],
   "source": [
    "import itk\n",
    "from itk import TubeTK as ttk\n",
    "from itkwidgets import view"
   ]
  },
  {
   "cell_type": "code",
   "execution_count": 2,
   "id": "97fb3220",
   "metadata": {},
   "outputs": [],
   "source": [
    "import os\n",
    "import glob"
   ]
  },
  {
   "cell_type": "code",
   "execution_count": 5,
   "id": "a0f09984",
   "metadata": {},
   "outputs": [],
   "source": [
    "data_dir = \"../../Data_PNB/TrainingAsMHA\"\n",
    "files = glob.glob(data_dir+'/*.mha')"
   ]
  },
  {
   "cell_type": "code",
   "execution_count": 6,
   "id": "26e2df80",
   "metadata": {},
   "outputs": [
    {
     "name": "stdout",
     "output_type": "stream",
     "text": [
      "2D shape = (1080, 912)\n"
     ]
    }
   ],
   "source": [
    "base3d_img = itk.imread(files[0],itk.F)\n",
    "base2d_arr = itk.GetArrayFromImage(base3d_img)[0,:,:]\n",
    "print(\"2D shape =\", base2d_arr.shape)    "
   ]
  },
  {
   "cell_type": "code",
   "execution_count": 8,
   "id": "f5b2b0f6",
   "metadata": {
    "scrolled": true
   },
   "outputs": [
    {
     "data": {
      "application/vnd.jupyter.widget-view+json": {
       "model_id": "efbda905752b49f5884b6d1f41b7e7a2",
       "version_major": 2,
       "version_minor": 0
      },
      "text/plain": [
       "Viewer(geometries=[], gradient_opacity=0.22, point_sets=[], rendered_image=<itk.itkImagePython.itkImageF2; pro…"
      ]
     },
     "metadata": {},
     "output_type": "display_data"
    }
   ],
   "source": [
    "view(base2d_arr)"
   ]
  },
  {
   "cell_type": "code",
   "execution_count": 11,
   "id": "47b0ab0b",
   "metadata": {},
   "outputs": [
    {
     "name": "stdout",
     "output_type": "stream",
     "text": [
      "0 of 31 : ../../Data_PNB/TrainingAsMHA\\1. 134 AC_Video 1.mha\n",
      "1 of 31 : ../../Data_PNB/TrainingAsMHA\\1. 136 AC_Video 1.mha\n",
      "2 of 31 : ../../Data_PNB/TrainingAsMHA\\1. 179 AC_Video 1.mha\n",
      "3 of 31 : ../../Data_PNB/TrainingAsMHA\\1. 189 AC_Video 1.mha\n",
      "4 of 31 : ../../Data_PNB/TrainingAsMHA\\1. 204 AC Video 1.mha\n",
      "5 of 31 : ../../Data_PNB/TrainingAsMHA\\1. 205 AC_Video 1.mha\n",
      "6 of 31 : ../../Data_PNB/TrainingAsMHA\\1. 207 AC_Video 1.mha\n",
      "7 of 31 : ../../Data_PNB/TrainingAsMHA\\1. 211 AC_Video 1.mha\n",
      "8 of 31 : ../../Data_PNB/TrainingAsMHA\\1. 217 AC_Video 1.mha\n",
      "9 of 31 : ../../Data_PNB/TrainingAsMHA\\1. 238 AC_Video 1.mha\n",
      "10 of 31 : ../../Data_PNB/TrainingAsMHA\\1. 57 AC_Video 1.mha\n",
      "11 of 31 : ../../Data_PNB/TrainingAsMHA\\2. 39 AC_Video 2.mha\n",
      "12 of 31 : ../../Data_PNB/TrainingAsMHA\\2. 46_Video 2.mha\n",
      "13 of 31 : ../../Data_PNB/TrainingAsMHA\\3. 11 AC_Video 2.mha\n",
      "14 of 31 : ../../Data_PNB/TrainingAsMHA\\3. 134 AC_Video 2.mha\n",
      "15 of 31 : ../../Data_PNB/TrainingAsMHA\\3. 178_Video 3.mha\n",
      "16 of 31 : ../../Data_PNB/TrainingAsMHA\\3. 189 AC_Video 2.mha\n",
      "17 of 31 : ../../Data_PNB/TrainingAsMHA\\3. 205 AC_Video 2.mha\n",
      "18 of 31 : ../../Data_PNB/TrainingAsMHA\\3. 217 AC_Video 2.mha\n",
      "19 of 31 : ../../Data_PNB/TrainingAsMHA\\3. 238 AC_Video 2.mha\n",
      "20 of 31 : ../../Data_PNB/TrainingAsMHA\\3. 67 AC_Video 2.mha\n",
      "21 of 31 : ../../Data_PNB/TrainingAsMHA\\3. 93 AC_Video 2.mha\n",
      "22 of 31 : ../../Data_PNB/TrainingAsMHA\\3. 94 AC_Video 2.mha\n",
      "23 of 31 : ../../Data_PNB/TrainingAsMHA\\4. 211 AC_Video 3.mha\n",
      "24 of 31 : ../../Data_PNB/TrainingAsMHA\\4. 222A_Video 2.mha\n",
      "25 of 31 : ../../Data_PNB/TrainingAsMHA\\4. 230 AC_Video 3.mha\n",
      "26 of 31 : ../../Data_PNB/TrainingAsMHA\\5. 153 AC_Video 3.mha\n",
      "27 of 31 : ../../Data_PNB/TrainingAsMHA\\5. 191 AC_Video 5.mha\n",
      "28 of 31 : ../../Data_PNB/TrainingAsMHA\\5. 240 AC_Video 3.mha\n",
      "29 of 31 : ../../Data_PNB/TrainingAsMHA\\5. 54 AC_Video 3.mha\n",
      "30 of 31 : ../../Data_PNB/TrainingAsMHA\\7. 193 AC Video 4.mha\n"
     ]
    }
   ],
   "source": [
    "num_files = len(files)\n",
    "for i,file in enumerate(files):\n",
    "    print(i, 'of', num_files, ':', file)\n",
    "    tmp3d_img = itk.imread(file,itk.F)\n",
    "    tmp2d_arr = itk.GetArrayFromImage(tmp3d_img)[0,:,:]\n",
    "    base2d_arr += tmp2d_arr"
   ]
  },
  {
   "cell_type": "code",
   "execution_count": 10,
   "id": "abee4a52",
   "metadata": {},
   "outputs": [
    {
     "data": {
      "application/vnd.jupyter.widget-view+json": {
       "model_id": "bc7386da11044db0abf2d5d51649f086",
       "version_major": 2,
       "version_minor": 0
      },
      "text/plain": [
       "Viewer(geometries=[], gradient_opacity=0.22, point_sets=[], rendered_image=<itk.itkImagePython.itkImageF2; pro…"
      ]
     },
     "metadata": {},
     "output_type": "display_data"
    }
   ],
   "source": [
    "view(base2d_arr)"
   ]
  }
 ],
 "metadata": {
  "kernelspec": {
   "display_name": "Python 3 (ipykernel)",
   "language": "python",
   "name": "python3"
  },
  "language_info": {
   "codemirror_mode": {
    "name": "ipython",
    "version": 3
   },
   "file_extension": ".py",
   "mimetype": "text/x-python",
   "name": "python",
   "nbconvert_exporter": "python",
   "pygments_lexer": "ipython3",
   "version": "3.8.10"
  }
 },
 "nbformat": 4,
 "nbformat_minor": 5
}
