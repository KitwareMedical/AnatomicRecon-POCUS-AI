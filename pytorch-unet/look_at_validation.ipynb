{
 "cells": [
  {
   "cell_type": "code",
   "execution_count": 9,
   "metadata": {},
   "outputs": [],
   "source": [
    "import os\n",
    "from random import sample\n",
    "import datetime\n",
    "import numpy as np\n",
    "\n",
    "from ipywidgets import IntProgress\n",
    "from IPython.display import display, HTML\n",
    "\n",
    "import girder_client\n",
    "import matplotlib.pyplot as plt\n",
    "import pandas as pd\n",
    "\n",
    "import torch\n",
    "import torchmetrics\n",
    "from torch.utils.tensorboard import SummaryWriter\n",
    "from pytorch_unet import UNet, UNet_rect_kernels\n",
    "from dataset_loader import DataAugmentor\n",
    "from glob import glob"
   ]
  },
  {
   "cell_type": "code",
   "execution_count": 7,
   "metadata": {},
   "outputs": [],
   "source": [
    "local_data_folder = r\"/home/nick/dev/SaggitalSpineSegmentation_Data\"\n",
    "validation_data_arrays = sorted(glob(os.path.join(local_data_folder, 'DataArrays/[q]*')))"
   ]
  },
  {
   "cell_type": "code",
   "execution_count": 8,
   "metadata": {},
   "outputs": [
    {
     "data": {
      "text/plain": [
       "['/home/nick/dev/SaggitalSpineSegmentation_Data/DataArrays/q000_segmentation.npy',\n",
       " '/home/nick/dev/SaggitalSpineSegmentation_Data/DataArrays/q000_ultrasound.npy',\n",
       " '/home/nick/dev/SaggitalSpineSegmentation_Data/DataArrays/q001_segmentation.npy',\n",
       " '/home/nick/dev/SaggitalSpineSegmentation_Data/DataArrays/q001_ultrasound.npy',\n",
       " '/home/nick/dev/SaggitalSpineSegmentation_Data/DataArrays/q002_segmentation.npy',\n",
       " '/home/nick/dev/SaggitalSpineSegmentation_Data/DataArrays/q002_ultrasound.npy',\n",
       " '/home/nick/dev/SaggitalSpineSegmentation_Data/DataArrays/q003_segmentation.npy',\n",
       " '/home/nick/dev/SaggitalSpineSegmentation_Data/DataArrays/q003_ultrasound.npy',\n",
       " '/home/nick/dev/SaggitalSpineSegmentation_Data/DataArrays/q004_segmentation.npy',\n",
       " '/home/nick/dev/SaggitalSpineSegmentation_Data/DataArrays/q004_ultrasound.npy',\n",
       " '/home/nick/dev/SaggitalSpineSegmentation_Data/DataArrays/q005_segmentation.npy',\n",
       " '/home/nick/dev/SaggitalSpineSegmentation_Data/DataArrays/q005_ultrasound.npy',\n",
       " '/home/nick/dev/SaggitalSpineSegmentation_Data/DataArrays/q006_segmentation.npy',\n",
       " '/home/nick/dev/SaggitalSpineSegmentation_Data/DataArrays/q006_ultrasound.npy',\n",
       " '/home/nick/dev/SaggitalSpineSegmentation_Data/DataArrays/q007_segmentation.npy',\n",
       " '/home/nick/dev/SaggitalSpineSegmentation_Data/DataArrays/q007_ultrasound.npy']"
      ]
     },
     "execution_count": 8,
     "metadata": {},
     "output_type": "execute_result"
    }
   ],
   "source": [
    "validation_data_arrays"
   ]
  },
  {
   "cell_type": "code",
   "execution_count": 12,
   "metadata": {},
   "outputs": [
    {
     "data": {
      "text/plain": [
       "<All keys matched successfully>"
      ]
     },
     "execution_count": 12,
     "metadata": {},
     "output_type": "execute_result"
    }
   ],
   "source": [
    "msd_path = os.path.join(local_data_folder, 'SavedModels/PyTorchSagittalSpineSegmentationStudy_model-7_2021-07-30_12-55-54.msd')\n",
    "model = UNet(128,2)\n",
    "model.load_state_dict(torch.load(msd_path))"
   ]
  },
  {
   "cell_type": "code",
   "execution_count": 28,
   "metadata": {},
   "outputs": [],
   "source": [
    "val_prediction = torch.load(os.path.join(local_data_folder, 'PredictionsValidation/2021-07-30_12-55-54_prediction_q007_ultrasound.npy'))"
   ]
  },
  {
   "cell_type": "code",
   "execution_count": 29,
   "metadata": {},
   "outputs": [
    {
     "name": "stdout",
     "output_type": "stream",
     "text": [
      "torch.Size([446, 2, 128, 128])\n",
      "torch.Size([446, 2, 128, 128])\n"
     ]
    },
    {
     "data": {
      "text/plain": [
       "tensor([0], device='cuda:0')"
      ]
     },
     "execution_count": 29,
     "metadata": {},
     "output_type": "execute_result"
    }
   ],
   "source": [
    "print(val_prediction.size())\n",
    "val_prediction = torch.nn.functional.softmax(val_prediction, dim=1)\n",
    "print(val_prediction.size())\n",
    "val_prediction = val_prediction.argmax(dim=1)\n",
    "torch.unique(val_prediction)"
   ]
  },
  {
   "cell_type": "code",
   "execution_count": 20,
   "metadata": {},
   "outputs": [
    {
     "name": "stdout",
     "output_type": "stream",
     "text": [
      "(446, 128, 128, 1) (446, 128, 128, 1)\n"
     ]
    }
   ],
   "source": [
    "val_ultrasound = np.load(os.path.join(local_data_folder, 'DataArrays/q007_ultrasound.npy'))\n",
    "val_groundtruth = np.load(os.path.join(local_data_folder, 'DataArrays/q007_segmentation.npy'))\n",
    "print(np.shape(val_ultrasound), np.shape(val_groundtruth))"
   ]
  },
  {
   "cell_type": "code",
   "execution_count": 34,
   "metadata": {},
   "outputs": [
    {
     "data": {
      "text/plain": [
       "['/home/nick/dev/SaggitalSpineSegmentation_Data/PredictionsValidation/2021-08-04_12-42-32_prediction_q000_ultrasound.npy',\n",
       " '/home/nick/dev/SaggitalSpineSegmentation_Data/PredictionsValidation/2021-08-04_12-42-32_prediction_q001_ultrasound.npy',\n",
       " '/home/nick/dev/SaggitalSpineSegmentation_Data/PredictionsValidation/2021-08-04_12-42-32_prediction_q002_ultrasound.npy',\n",
       " '/home/nick/dev/SaggitalSpineSegmentation_Data/PredictionsValidation/2021-08-04_12-42-32_prediction_q003_ultrasound.npy',\n",
       " '/home/nick/dev/SaggitalSpineSegmentation_Data/PredictionsValidation/2021-08-04_12-42-32_prediction_q004_ultrasound.npy',\n",
       " '/home/nick/dev/SaggitalSpineSegmentation_Data/PredictionsValidation/2021-08-04_12-42-32_prediction_q005_ultrasound.npy',\n",
       " '/home/nick/dev/SaggitalSpineSegmentation_Data/PredictionsValidation/2021-08-04_12-42-32_prediction_q006_ultrasound.npy',\n",
       " '/home/nick/dev/SaggitalSpineSegmentation_Data/PredictionsValidation/2021-08-04_12-42-32_prediction_q007_ultrasound.npy']"
      ]
     },
     "execution_count": 34,
     "metadata": {},
     "output_type": "execute_result"
    }
   ],
   "source": [
    "val_predictions = sorted(glob(os.path.join(local_data_folder, 'PredictionsValidation/2021-08-04_12-42-32*')))\n",
    "val_predictions"
   ]
  },
  {
   "cell_type": "code",
   "execution_count": 35,
   "metadata": {},
   "outputs": [
    {
     "name": "stdout",
     "output_type": "stream",
     "text": [
      "torch.Size([523, 2, 128, 128])\n",
      "torch.Size([523, 2, 128, 128])\n",
      "tensor([0], device='cuda:0')\n",
      "torch.Size([355, 2, 128, 128])\n",
      "torch.Size([355, 2, 128, 128])\n",
      "tensor([0, 1], device='cuda:0')\n",
      "torch.Size([477, 2, 128, 128])\n",
      "torch.Size([477, 2, 128, 128])\n",
      "tensor([0], device='cuda:0')\n",
      "torch.Size([453, 2, 128, 128])\n",
      "torch.Size([453, 2, 128, 128])\n",
      "tensor([0], device='cuda:0')\n",
      "torch.Size([289, 2, 128, 128])\n",
      "torch.Size([289, 2, 128, 128])\n",
      "tensor([0], device='cuda:0')\n",
      "torch.Size([387, 2, 128, 128])\n",
      "torch.Size([387, 2, 128, 128])\n",
      "tensor([0], device='cuda:0')\n",
      "torch.Size([360, 2, 128, 128])\n",
      "torch.Size([360, 2, 128, 128])\n",
      "tensor([0], device='cuda:0')\n",
      "torch.Size([446, 2, 128, 128])\n",
      "torch.Size([446, 2, 128, 128])\n",
      "tensor([0], device='cuda:0')\n"
     ]
    }
   ],
   "source": [
    "for vp in val_predictions:\n",
    "    val_prediction = val_prediction = torch.load(vp)\n",
    "    print(val_prediction.size())\n",
    "    val_prediction = torch.nn.functional.softmax(val_prediction, dim=1)\n",
    "    print(val_prediction.size())\n",
    "    val_prediction = val_prediction.argmax(dim=1)\n",
    "    print(torch.unique(val_prediction))"
   ]
  },
  {
   "cell_type": "code",
   "execution_count": null,
   "metadata": {},
   "outputs": [],
   "source": []
  }
 ],
 "metadata": {
  "kernelspec": {
   "display_name": "Python 3",
   "language": "python",
   "name": "python3"
  },
  "language_info": {
   "codemirror_mode": {
    "name": "ipython",
    "version": 3
   },
   "file_extension": ".py",
   "mimetype": "text/x-python",
   "name": "python",
   "nbconvert_exporter": "python",
   "pygments_lexer": "ipython3",
   "version": "3.7.3"
  }
 },
 "nbformat": 4,
 "nbformat_minor": 4
}
