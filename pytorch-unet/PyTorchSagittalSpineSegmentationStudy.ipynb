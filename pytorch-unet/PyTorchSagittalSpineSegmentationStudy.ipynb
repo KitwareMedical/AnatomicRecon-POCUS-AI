{
 "cells": [
  {
   "cell_type": "code",
   "execution_count": 1,
   "metadata": {},
   "outputs": [
    {
     "name": "stderr",
     "output_type": "stream",
     "text": [
      "/home/nick/anaconda3/lib/python3.7/site-packages/setuptools/distutils_patch.py:26: UserWarning: Distutils was imported before Setuptools. This usage is discouraged and may exhibit undesirable behaviors or errors. Please use Setuptools' objects directly or at least import Setuptools first.\n",
      "  \"Distutils was imported before Setuptools. This usage is discouraged \"\n"
     ]
    }
   ],
   "source": [
    "import os\n",
    "from random import sample\n",
    "import datetime\n",
    "import numpy as np\n",
    "\n",
    "from ipywidgets import IntProgress\n",
    "from IPython.display import display, HTML\n",
    "\n",
    "import girder_client\n",
    "import matplotlib.pyplot as plt\n",
    "import pandas as pd\n",
    "\n",
    "import torch\n",
    "import torchmetrics\n",
    "from torch.utils.tensorboard import SummaryWriter\n",
    "from pytorch_unet import UNet\n",
    "from dataset_loader import DataAugmentor\n",
    "%load_ext tensorboard"
   ]
  },
  {
   "cell_type": "code",
   "execution_count": 2,
   "metadata": {},
   "outputs": [
    {
     "name": "stdout",
     "output_type": "stream",
     "text": [
      "Save timestamp: 2021-08-05_12-41-47\n"
     ]
    }
   ],
   "source": [
    "this_notebook_name = \"PyTorchSagittalSpineSegmentationStudy\"\n",
    "\n",
    "# Update this folder name for your computer\n",
    "\n",
    "local_data_folder = r\"/home/nick/dev/SaggitalSpineSegmentation_Data\"\n",
    "overwrite_existing_data_files = False\n",
    "\n",
    "# All results and output will be archived with this timestamp\n",
    "\n",
    "save_timestamp = datetime.datetime.now().strftime('%Y-%m-%d_%H-%M-%S')\n",
    "print(\"Save timestamp: {}\".format(save_timestamp))\n",
    "\n",
    "# Learning parameters\n",
    "ultrasound_size = 128\n",
    "num_classes = 2\n",
    "num_epochs = 500 # was 500\n",
    "batch_size = 128\n",
    "max_learning_rate = 0.025\n",
    "min_learning_rate = 0.00005\n",
    "\n",
    "# I will use exponential learning rate decay, not linear\n",
    "# need to solve the system of equations:\n",
    "\n",
    "# x**y = max_learning_rate\n",
    "# x**(num_epochs + y) = min_learning_rate\n",
    "\n",
    "# Here, x is the decay factor we want\n",
    "# solving analytically by hand bc I am a math major (and sympy failed):\n",
    "\n",
    "# y*ln(x) = ln(max_learning_rate)\n",
    "# (num_epochs + y) * ln(x) = ln(min_learning_rate)\n",
    "# (num_epochs + (ln(max_learning_rate)/ln(x)))*ln(x) = ln(min_learning_rate)\n",
    "# ln(x)*num_epochs + ln(max_learning_rate) = ln(min_learning_rate)\n",
    "# ln(x) = (ln(min_learning_rate) - ln(max_learning_rate))/num_epochs\n",
    "# ln(x) = ln( (min_learning_rate / max_learning_rate)**(1/num_epochs) )\n",
    "# x = (min_learning_rate / max_learning_rate)**(1/num_epochs)\n",
    "\n",
    "learning_rate_decay = (min_learning_rate / max_learning_rate)**(1/num_epochs)\n",
    "\n",
    "regularization_rate = 0.001\n",
    "filter_multiplier = 10\n",
    "WCE_weights = np.array([0.1, 0.9])\n",
    "\n",
    "# Training data augmentation parameters\n",
    "\n",
    "max_shift_factor = 0.12\n",
    "max_rotation_angle = 10\n",
    "max_zoom_factor = 1.1\n",
    "min_zoom_factor = 0.8\n",
    "\n",
    "# Evaluation parameters\n",
    "\n",
    "acceptable_margin_mm = 1.0\n",
    "mm_per_pixel = 1.0\n",
    "\n",
    "roc_thresholds = [0.9, 0.8, 0.7, 0.65, 0.6, 0.55, 0.5, 0.45, 0.4, 0.35, 0.3, 0.25, 0.2, 0.15, 0.1,\n",
    "                  0.08, 0.06, 0.04, 0.02, 0.01,\n",
    "                  0.008, 0.006, 0.004, 0.002, 0.001]\n",
    "\n",
    "limit_validation_rounds = -1\n",
    "\n",
    "# Uncomment for faster debugging\n",
    "\n",
    "# roc_thresholds = [0.8, 0.6, 0.4, 0.2, 0.1, 0.01]\n",
    "# limit_validation_rounds = 1\n",
    "# num_epochs = 1"
   ]
  },
  {
   "cell_type": "code",
   "execution_count": 3,
   "metadata": {},
   "outputs": [],
   "source": [
    "# Define what data to download\n",
    "\n",
    "girder_api_url = \"https://pocus.cs.queensu.ca/api/v1\"\n",
    "\n",
    "training_ultrasound_ids = [\n",
    "    \"5da9e5c0d9e6a3be02d012b4\",\n",
    "    \"5da9e5c7d9e6a3be02d012c6\",\n",
    "    \"5da9e5c2d9e6a3be02d012b7\",\n",
    "    \"5da9e5c3d9e6a3be02d012ba\",\n",
    "    \"5da9e5c8d9e6a3be02d012c9\",\n",
    "    \"5da9e5c5d9e6a3be02d012c0\",\n",
    "    \"5da9e5c6d9e6a3be02d012c3\",\n",
    "    \"5da9e5c4d9e6a3be02d012bd\"\n",
    "]\n",
    "\n",
    "training_ultrasound_filenames = [\n",
    "    \"q000_ultrasound.npy\",\n",
    "    \"q001_ultrasound.npy\",\n",
    "    \"q002_ultrasound.npy\",\n",
    "    \"q003_ultrasound.npy\",\n",
    "    \"q004_ultrasound.npy\",\n",
    "    \"q005_ultrasound.npy\",\n",
    "    \"q006_ultrasound.npy\",\n",
    "    \"q007_ultrasound.npy\"\n",
    "]\n",
    "\n",
    "training_segmentation_ids = [\n",
    "    \"5da9e5c8d9e6a3be02d012cc\",\n",
    "    \"5da9e5ccd9e6a3be02d012de\",\n",
    "    \"5da9e5c9d9e6a3be02d012cf\",\n",
    "    \"5da9e5cad9e6a3be02d012d2\",\n",
    "    \"5da9e5cdd9e6a3be02d012e1\",\n",
    "    \"5da9e5cbd9e6a3be02d012d8\",\n",
    "    \"5da9e5cbd9e6a3be02d012db\",\n",
    "    \"5da9e5cad9e6a3be02d012d5\"\n",
    "]\n",
    "\n",
    "training_segmentation_filenames = [\n",
    "    \"q000_segmentation.npy\",\n",
    "    \"q001_segmentation.npy\",\n",
    "    \"q002_segmentation.npy\",\n",
    "    \"q003_segmentation.npy\",\n",
    "    \"q004_segmentation.npy\",\n",
    "    \"q005_segmentation.npy\",\n",
    "    \"q006_segmentation.npy\",\n",
    "    \"q007_segmentation.npy\"\n",
    "]"
   ]
  },
  {
   "cell_type": "code",
   "execution_count": 4,
   "metadata": {},
   "outputs": [],
   "source": [
    "# These subfolders will be created/populated in the data folder\n",
    "\n",
    "data_arrays_folder    = \"DataArrays\"\n",
    "notebooks_save_folder = \"SavedNotebooks\"\n",
    "results_save_folder   = \"SavedResults\"\n",
    "models_save_folder    = \"SavedModels\"\n",
    "val_data_folder       = \"PredictionsValidation\"\n",
    "\n",
    "data_arrays_fullpath = os.path.join(local_data_folder, data_arrays_folder)\n",
    "notebooks_save_fullpath = os.path.join(local_data_folder, notebooks_save_folder)\n",
    "results_save_fullpath = os.path.join(local_data_folder, results_save_folder)\n",
    "models_save_fullpath = os.path.join(local_data_folder, models_save_folder)\n",
    "val_data_fullpath = os.path.join(local_data_folder, val_data_folder)\n",
    "\n",
    "if not os.path.exists(data_arrays_fullpath):\n",
    "    os.makedirs(data_arrays_fullpath)\n",
    "    print(\"Created folder: {}\".format(data_arrays_fullpath))\n",
    "\n",
    "if not os.path.exists(notebooks_save_fullpath):\n",
    "    os.makedirs(notebooks_save_fullpath)\n",
    "    print(\"Created folder: {}\".format(notebooks_save_fullpath))\n",
    "\n",
    "if not os.path.exists(results_save_fullpath):\n",
    "    os.makedirs(results_save_fullpath)\n",
    "    print(\"Created folder: {}\".format(results_save_fullpath))\n",
    "\n",
    "if not os.path.exists(models_save_fullpath):\n",
    "    os.makedirs(models_save_fullpath)\n",
    "    print(\"Created folder: {}\".format(models_save_fullpath))\n",
    "\n",
    "if not os.path.exists(val_data_fullpath):\n",
    "    os.makedirs(val_data_fullpath)\n",
    "    print(\"Created folder: {}\".format(val_data_fullpath))"
   ]
  },
  {
   "cell_type": "code",
   "execution_count": 5,
   "metadata": {},
   "outputs": [
    {
     "name": "stdout",
     "output_type": "stream",
     "text": [
      "Downloading training files ...\n"
     ]
    },
    {
     "data": {
      "application/vnd.jupyter.widget-view+json": {
       "model_id": "014389efa80c4cbc96022db693151d08",
       "version_major": 2,
       "version_minor": 0
      },
      "text/plain": [
       "IntProgress(value=0, max=16)"
      ]
     },
     "metadata": {},
     "output_type": "display_data"
    },
    {
     "name": "stdout",
     "output_type": "stream",
     "text": [
      "\n",
      "Total download time: 0:00:00.013084\n"
     ]
    }
   ],
   "source": [
    "# Download data from Girder\n",
    "\n",
    "time_download_start = datetime.datetime.now()\n",
    "\n",
    "print(\"Downloading training files ...\")\n",
    "\n",
    "# Setting up number of validation rounds\n",
    "\n",
    "n_files = len(training_ultrasound_ids)\n",
    "if limit_validation_rounds > 0:\n",
    "    num_validation_rounds = min(n_files, limit_validation_rounds)\n",
    "else:\n",
    "    num_validation_rounds = n_files\n",
    "\n",
    "# Preparing progress bar\n",
    "\n",
    "f = IntProgress(min=0, max=n_files*2)\n",
    "display(f)\n",
    "\n",
    "# Downloading files\n",
    "\n",
    "gclient = girder_client.GirderClient(apiUrl=girder_api_url)\n",
    "\n",
    "for i in range(n_files):\n",
    "    ultrasound_fullname = os.path.join(data_arrays_fullpath, training_ultrasound_filenames[i])\n",
    "    if not os.path.exists(ultrasound_fullname) or overwrite_existing_data_files:\n",
    "        print(\"Downloading {}...\".format(ultrasound_fullname))\n",
    "        gclient.downloadFile(training_ultrasound_ids[i], ultrasound_fullname)\n",
    "    f.value = i * 2 + 1\n",
    "    \n",
    "    segmentation_fullname = os.path.join(data_arrays_fullpath, training_segmentation_filenames[i])\n",
    "    if not os.path.exists(segmentation_fullname) or overwrite_existing_data_files:\n",
    "        print(\"Downloading {}...\".format(segmentation_fullname))\n",
    "        gclient.downloadFile(training_segmentation_ids[i], segmentation_fullname)\n",
    "    f.value = i * 2 + 2\n",
    "\n",
    "time_download_stop = datetime.datetime.now()\n",
    "print(\"\\nTotal download time: {}\".format(time_download_stop - time_download_start))"
   ]
  },
  {
   "cell_type": "code",
   "execution_count": 6,
   "metadata": {},
   "outputs": [
    {
     "data": {
      "application/vnd.jupyter.widget-view+json": {
       "model_id": "59220b658ccc42bc87034a2c5fedbb69",
       "version_major": 2,
       "version_minor": 0
      },
      "text/plain": [
       "IntProgress(value=0, max=16)"
      ]
     },
     "metadata": {},
     "output_type": "display_data"
    },
    {
     "name": "stdout",
     "output_type": "stream",
     "text": [
      "\n",
      "Total time to load from files: 0:00:00.142763\n"
     ]
    }
   ],
   "source": [
    "# Read data into torch tensors in channel-first format, dtype float\n",
    "\n",
    "ultrasound_tensors = []\n",
    "segmentation_tensors = []\n",
    "\n",
    "f = IntProgress(min=0, max=n_files * 2)\n",
    "display(f)\n",
    "\n",
    "time_start = datetime.datetime.now()\n",
    "\n",
    "for i in range(n_files):\n",
    "    ultrasound_fullname = os.path.join(data_arrays_fullpath, training_ultrasound_filenames[i])\n",
    "    segmentation_fullname = os.path.join(data_arrays_fullpath, training_segmentation_filenames[i])\n",
    "\n",
    "    ultrasound_data = np.load(ultrasound_fullname)\n",
    "    ultrasound_data = torch.Tensor(ultrasound_data).permute(0,3,1,2).float()\n",
    "    f.value = i * 2 + 1\n",
    "    \n",
    "    segmentation_data = np.load(segmentation_fullname)\n",
    "    segmentation_data = torch.Tensor(segmentation_data).long().permute(0,3,1,2)\n",
    "\n",
    "    f.value = i * 2 + 2\n",
    "    \n",
    "    ultrasound_tensors.append(ultrasound_data)\n",
    "    segmentation_tensors.append(segmentation_data)\n",
    "\n",
    "time_stop = datetime.datetime.now()\n",
    "print(\"\\nTotal time to load from files: {}\".format(time_stop - time_start))"
   ]
  },
  {
   "cell_type": "code",
   "execution_count": 7,
   "metadata": {},
   "outputs": [
    {
     "name": "stdout",
     "output_type": "stream",
     "text": [
      "Using device: GeForce RTX 2060 SUPER\n"
     ]
    }
   ],
   "source": [
    "# Use cuda GPU if available\n",
    "\n",
    "device_name = \" \"\n",
    "if torch.cuda.is_available():\n",
    "    device_name = torch.cuda.get_device_name(torch.cuda.current_device())\n",
    "else:\n",
    "    device_name = 'CPU'\n",
    "    \n",
    "print('Using device:', device_name)\n",
    "\n",
    "device = \"cuda\" if torch.cuda.is_available() else \"cpu\""
   ]
  },
  {
   "cell_type": "code",
   "execution_count": 8,
   "metadata": {},
   "outputs": [
    {
     "name": "stdout",
     "output_type": "stream",
     "text": [
      "Timestamp for saved files: 2021-08-05_12-41-47\n",
      "\n",
      "Training parameters\n",
      "Number of epochs:    500\n",
      "Step size maximum:   0.025\n",
      "Step size decay:     0.9876477074806245\n",
      "Batch size:          128\n",
      "Regularization rate: 0.001\n",
      "\n",
      "Saving validation predictions in: /home/nick/dev/SaggitalSpineSegmentation_Data/PredictionsValidation\n",
      "Saving models in:                 /home/nick/dev/SaggitalSpineSegmentation_Data/SavedModels\n",
      "\n",
      "*** Leave-one-out round # 0\n",
      "\n",
      "Training on 2767 images, validating on 523 images...\n"
     ]
    },
    {
     "data": {
      "application/vnd.jupyter.widget-view+json": {
       "model_id": "8048fc86278443e889ae5c439100d8f8",
       "version_major": 2,
       "version_minor": 0
      },
      "text/plain": [
       "IntProgress(value=0, max=500)"
      ]
     },
     "metadata": {},
     "output_type": "display_data"
    },
    {
     "name": "stdout",
     "output_type": "stream",
     "text": [
      "\n",
      "Metrics at the end of training\n",
      "  val loss:      0.035754946247455496\n",
      "  val_dice:      0.9916396379470825\n",
      "  Training time: 0:22:39.487038\n",
      "/home/nick/dev/SaggitalSpineSegmentation_Data/SavedModels/PyTorchSagittalSpineSegmentationStudy_model-0_2021-08-05_12-41-47.msd\n",
      "\n",
      "Total round time:  0:22:39.672552\n",
      "\n",
      "\n",
      "Total training time:   0:22:43.589504\n"
     ]
    }
   ],
   "source": [
    "# This is where all the training gets done\n",
    "\n",
    "# Print training parameters, to archive them together with the notebook output.\n",
    "\n",
    "time_sequence_start = datetime.datetime.now()\n",
    "\n",
    "print(\"Timestamp for saved files: {}\".format(save_timestamp))\n",
    "print(\"\\nTraining parameters\")\n",
    "print(\"Number of epochs:    {}\".format(num_epochs))\n",
    "print(\"Step size maximum:   {}\".format(max_learning_rate))\n",
    "print(\"Step size decay:     {}\".format(learning_rate_decay))\n",
    "print(\"Batch size:          {}\".format(batch_size))\n",
    "print(\"Regularization rate: {}\".format(regularization_rate))\n",
    "print(\"\")\n",
    "print(\"Saving validation predictions in: {}\".format(val_data_fullpath))\n",
    "print(\"Saving models in:                 {}\".format(models_save_fullpath))\n",
    "\n",
    "# ROC data will be saved in these containers\n",
    "\n",
    "val_best_metrics    = dict()\n",
    "val_fuzzy_metrics   = dict()\n",
    "val_aurocs          = np.zeros(num_validation_rounds)\n",
    "val_best_thresholds = np.zeros(num_validation_rounds)\n",
    "\n",
    "# Initialize metrics\n",
    "\n",
    "train_loss = 0.0\n",
    "val_loss = 0.0\n",
    "val_dice = 0.0\n",
    "\n",
    "# Perform validation rounds\n",
    "\n",
    "for i in range(num_validation_rounds):\n",
    "    \n",
    "    f = IntProgress(min=0, max=num_epochs)\n",
    "     \n",
    "    # Set Up TensorBoard\n",
    "    \n",
    "    writer = SummaryWriter()\n",
    "    \n",
    "#   Prepare data arrays\n",
    "#   leave out ultrasound_arrays[i]\n",
    "    \n",
    "    train_ultrasound_data = torch.zeros(\n",
    "        [0, ultrasound_tensors[0].shape[1], ultrasound_tensors[0].shape[2], ultrasound_tensors[0].shape[3]]).float()\n",
    "    train_segmentation_data = torch.zeros(\n",
    "        [0, ultrasound_tensors[0].shape[1], ultrasound_tensors[0].shape[2], ultrasound_tensors[0].shape[3]]).long()\n",
    "    \n",
    "    val_ultrasound_data = ultrasound_tensors[i]\n",
    "    val_segmentation_data = segmentation_tensors[i]\n",
    "    val_ultrasound_filename = training_ultrasound_filenames[i]\n",
    "    \n",
    "    for train_index in range(n_files):\n",
    "        if train_index != i:\n",
    "            train_ultrasound_data = torch.cat((train_ultrasound_data, ultrasound_tensors[train_index]))\n",
    "            train_segmentation_data = torch.cat((train_segmentation_data, segmentation_tensors[train_index]))\n",
    "    \n",
    "    n_train = train_ultrasound_data.size(0)\n",
    "    n_val = val_ultrasound_data.size(0)\n",
    "    \n",
    "    print(\"\\n*** Leave-one-out round # {}\".format(i))\n",
    "    print(\"\\nTraining on {} images, validating on {} images...\".format(n_train, n_val))\n",
    "    \n",
    "    display(f)\n",
    "    \n",
    "    # Create and train model\n",
    "\n",
    "    model = UNet(128,num_classes).to(device).train()\n",
    "    optim = torch.optim.Adam(model.parameters(), lr=max_learning_rate)\n",
    "    lr_scheduler = torch.optim.lr_scheduler.ExponentialLR(optimizer=optim, gamma=learning_rate_decay)\n",
    "    criterion = torch.nn.CrossEntropyLoss(weight=torch.tensor(WCE_weights).float()).to(device)\n",
    "    dice_metric = torchmetrics.F1(num_classes=num_classes, mdmc_average='global').to(device).eval()\n",
    "    softmax = torch.nn.Softmax(dim=1).to(device)\n",
    "    \n",
    "    # PyTorch Datasets and DataLoaders\n",
    "    \n",
    "    training_dataset = DataAugmentor(train_ultrasound_data,\n",
    "                                     train_segmentation_data,\n",
    "                                     image_dimensions=(ultrasound_size, ultrasound_size),\n",
    "                                     max_rotation_angle=max_rotation_angle,\n",
    "                                     max_shift_factor=max_shift_factor,\n",
    "                                     min_zoom_factor=min_zoom_factor,\n",
    "                                     max_zoom_factor=max_zoom_factor)\n",
    "    training_generator = torch.utils.data.DataLoader(training_dataset, batch_size=batch_size, num_workers=4)\n",
    "    \n",
    "    val_dataset = DataAugmentor(val_ultrasound_data,\n",
    "                                val_segmentation_data,\n",
    "                                image_dimensions=(ultrasound_size, ultrasound_size),\n",
    "                                max_rotation_angle=max_rotation_angle,\n",
    "                                max_shift_factor=max_shift_factor,\n",
    "                                min_zoom_factor=min_zoom_factor,\n",
    "                                max_zoom_factor=max_zoom_factor)\n",
    "    val_generator = torch.utils.data.DataLoader(val_dataset, batch_size=batch_size, num_workers=4)\n",
    "        \n",
    "    training_time_start = datetime.datetime.now()\n",
    "    \n",
    "    # training loop for this validation split\n",
    "    for epoch in range(1, num_epochs+1):\n",
    "        train_loss = 0.0\n",
    "        val_loss = 0.0\n",
    "        val_dice = 0.0\n",
    "        \n",
    "        # training\n",
    "        model.train()\n",
    "        num = 0\n",
    "        for batch, target in training_generator:\n",
    "            num += 1\n",
    "            optim.zero_grad()\n",
    "            batch = batch.to(device)\n",
    "            target = target.to(device)\n",
    "            pred = model(batch).to(device)\n",
    "            loss = criterion(pred, target.squeeze(1))\n",
    "            loss += regularization_rate * sum(x.abs().sum()for k, x in model.named_parameters() if k.endswith('conv.bias')) * 1e-5\n",
    "            loss.backward()\n",
    "            train_loss += loss.item() * batch.size(0)\n",
    "            optim.step()\n",
    "            \n",
    "        \n",
    "        lr_scheduler.step()\n",
    "        train_loss = train_loss / training_dataset.__len__()\n",
    "        \n",
    "        # validation\n",
    "        model.eval()\n",
    "        num = 0\n",
    "        for batch, target in val_generator:\n",
    "            num += 1\n",
    "            batch = batch.to(device)\n",
    "            target = target.to(device)\n",
    "            pred = model(batch).to(device)\n",
    "            loss = criterion(pred, target.squeeze(1))\n",
    "            val_loss += loss.item() * batch.size(0)\n",
    "            pred_probmap = softmax(pred)\n",
    "            dice = dice_metric(pred_probmap, target)\n",
    "            val_dice += dice.item()\n",
    "        \n",
    "        if epoch==1:\n",
    "            writer.add_graph(model, batch)\n",
    "            \n",
    "        val_loss = val_loss / val_dataset.__len__()\n",
    "        val_dice = val_dice / num\n",
    "        \n",
    "        writer.add_scalar('Loss/train', train_loss, epoch)\n",
    "        writer.add_scalar('Loss/validation', val_loss, epoch)\n",
    "        writer.add_scalar('Dice/validation', val_dice, epoch)\n",
    "        writer.add_scalar('Meta/learning_rate', lr_scheduler.get_last_lr()[-1], epoch)\n",
    "        \n",
    "        f.value = epoch\n",
    "        \n",
    "\n",
    "    training_time_stop = datetime.datetime.now()\n",
    "    \n",
    "    # Print training log\n",
    "    \n",
    "    print(\"\\nMetrics at the end of training\")\n",
    "    print(\"  val loss:      {}\".format(val_loss))\n",
    "    print(\"  val_dice:      {}\".format(val_dice))\n",
    "    print(\"  Training time: {}\".format(training_time_stop-training_time_start))\n",
    "    \n",
    "    # TODO Plot training loss and metrics\n",
    "    \n",
    "    # Predict on validation data\n",
    "    \n",
    "    y_pred_val  = model(val_ultrasound_data.to(device))\n",
    "    \n",
    "    # Saving predictions for further evaluation\n",
    "    \n",
    "    filename_noext, extension = os.path.splitext(val_ultrasound_filename)\n",
    "    val_prediction_filename = save_timestamp + \"_prediction_\" + filename_noext + \".npy\"\n",
    "    val_prediction_fullname = os.path.join(val_data_fullpath, val_prediction_filename)\n",
    "    torch.save(y_pred_val, val_prediction_fullname)\n",
    "    \n",
    "    # Archive trained model with unique filename based on notebook name and timestamp\n",
    "    \n",
    "    model_file_name = this_notebook_name + \"_model-\" + str(i) + \"_\" + save_timestamp + \".msd\"\n",
    "    model_fullname = os.path.join(models_save_fullpath, model_file_name)\n",
    "    print(model_fullname)\n",
    "    torch.save(model.state_dict(), model_fullname)\n",
    "    \n",
    "    # Validation results\n",
    "     \n",
    "#     vali_metrics_dicts, vali_best_threshold_index, vali_area = evaluation_metrics.compute_roc(\n",
    "#         roc_thresholds, y_pred_val, val_segmentation_data, acceptable_margin_mm, mm_per_pixel)\n",
    "    \n",
    "#     val_fuzzy_metrics[i] = evaluation_metrics.compute_evaluation_metrics(\n",
    "#         y_pred_val, val_segmentation_data, acceptable_margin_mm, mm_per_pixel)\n",
    "    \n",
    "#     val_best_metrics[i]    = vali_metrics_dicts[vali_best_threshold_index]\n",
    "#     val_aurocs[i]          = vali_area\n",
    "#     val_best_thresholds[i] = roc_thresholds[vali_best_threshold_index]\n",
    "    \n",
    "    # Printing total time of this validation round\n",
    "    \n",
    "    print(\"\\nTotal round time:  {}\".format(datetime.datetime.now() - training_time_start))\n",
    "    print(\"\")\n",
    "    \n",
    "    # just do one validation split\n",
    "    break\n",
    "\n",
    "\n",
    "time_sequence_stop = datetime.datetime.now()\n",
    "\n",
    "print(\"\\nTotal training time:   {}\".format(time_sequence_stop - time_sequence_start))\n"
   ]
  },
  {
   "cell_type": "code",
   "execution_count": null,
   "metadata": {},
   "outputs": [],
   "source": []
  },
  {
   "cell_type": "code",
   "execution_count": 9,
   "metadata": {},
   "outputs": [
    {
     "data": {
      "application/javascript": [
       "\n",
       "require([\"base/js/namespace\"],function(Jupyter) {\n",
       "    Jupyter.notebook.save_checkpoint();\n",
       "});\n"
      ],
      "text/plain": [
       "<IPython.core.display.Javascript object>"
      ]
     },
     "execution_count": 9,
     "metadata": {},
     "output_type": "execute_result"
    }
   ],
   "source": [
    "# Save notebook so all output is archived by the next cell\n",
    "\n",
    "from IPython.display import Javascript\n",
    "script = '''\n",
    "require([\"base/js/namespace\"],function(Jupyter) {\n",
    "    Jupyter.notebook.save_checkpoint();\n",
    "});\n",
    "'''\n",
    "Javascript(script)"
   ]
  },
  {
   "cell_type": "code",
   "execution_count": 10,
   "metadata": {},
   "outputs": [
    {
     "name": "stdout",
     "output_type": "stream",
     "text": [
      "Notebook saved to: /home/nick/dev/SaggitalSpineSegmentation_Data/SavedNotebooks/PyTorchSagittalSpineSegmentationStudy_2021-08-05_12-41-47.html\n"
     ]
    }
   ],
   "source": [
    "# Export HTML copy of this notebook\n",
    "\n",
    "notebook_file_name = this_notebook_name + \"_\" + save_timestamp + \".html\"\n",
    "notebook_fullname = os.path.join(notebooks_save_fullpath, notebook_file_name)\n",
    "\n",
    "os.system(\"jupyter nbconvert --to html \" + this_notebook_name + \" --output \" + notebook_fullname)\n",
    "print(\"Notebook saved to: {}\".format(notebook_fullname))"
   ]
  },
  {
   "cell_type": "code",
   "execution_count": 11,
   "metadata": {},
   "outputs": [
    {
     "ename": "AssertionError",
     "evalue": "",
     "output_type": "error",
     "traceback": [
      "\u001b[0;31m---------------------------------------------------------------------------\u001b[0m",
      "\u001b[0;31mAssertionError\u001b[0m                            Traceback (most recent call last)",
      "\u001b[0;32m<ipython-input-11-a871fdc9ebee>\u001b[0m in \u001b[0;36m<module>\u001b[0;34m\u001b[0m\n\u001b[0;32m----> 1\u001b[0;31m \u001b[0;32massert\u001b[0m \u001b[0;32mFalse\u001b[0m\u001b[0;34m\u001b[0m\u001b[0;34m\u001b[0m\u001b[0m\n\u001b[0m",
      "\u001b[0;31mAssertionError\u001b[0m: "
     ]
    }
   ],
   "source": [
    "assert False"
   ]
  },
  {
   "cell_type": "code",
   "execution_count": 12,
   "metadata": {},
   "outputs": [
    {
     "data": {
      "text/plain": [
       "torch.Size([523, 128, 128])"
      ]
     },
     "execution_count": 12,
     "metadata": {},
     "output_type": "execute_result"
    }
   ],
   "source": [
    "pred_sm = torch.nn.functional.softmax(y_pred_val, dim=1)\n",
    "pred_sm = pred_sm[:,1,:,:]\n",
    "pred_sm.size()\n",
    "# torch.nn.functional.softmax(y_pred_val, dim=1)[:,1,:,:].to('cpu').detach().numpy()"
   ]
  },
  {
   "cell_type": "code",
   "execution_count": 13,
   "metadata": {},
   "outputs": [],
   "source": [
    "pred_sm_np = np.array(pred_sm.to('cpu').detach().numpy())"
   ]
  },
  {
   "cell_type": "code",
   "execution_count": 14,
   "metadata": {},
   "outputs": [],
   "source": [
    "gt_np = torch.squeeze(val_segmentation_data, dim=1).detach().numpy()"
   ]
  },
  {
   "cell_type": "code",
   "execution_count": 38,
   "metadata": {},
   "outputs": [
    {
     "data": {
      "image/png": "[encoded data removed]",
      "text/plain": [
       "<Figure size 1440x1080 with 2 Axes>"
      ]
     },
     "metadata": {
      "needs_background": "light"
     },
     "output_type": "display_data"
    }
   ],
   "source": [
    "index = int(523*np.random.rand())\n",
    "\n",
    "fig, axs = plt.subplots(1,2)\n",
    "fig.set_size_inches(20,15)\n",
    "axs[0].imshow(gt_np[index])\n",
    "axs[1].imshow(pred_sm_np[index])\n",
    "plt.tight_layout()"
   ]
  },
  {
   "cell_type": "code",
   "execution_count": null,
   "metadata": {},
   "outputs": [],
   "source": [
    "#blah#blah\n",
    "#blah#blah\n",
    "#blah#blah#blah#blah\n",
    "#blah#blah\n",
    "#blah#blah#blah#blah\n",
    "#blah#blah\n",
    "#blah#blah#blah#blah\n",
    "#blah#blah\n",
    "#blah#blah#blah#blah\n",
    "#blah#blah\n",
    "#blah#blah#blah#blah\n",
    "#blah#blah\n",
    "#blah#blah#blah#blah\n",
    "#blah#blah\n",
    "#blah#blah#blah#blah\n",
    "#blah#blah\n",
    "#blah#blah#blah#blah\n",
    "#blah#blah\n",
    "#blah#blah#blah#blah\n",
    "#blah#blah\n",
    "#blah#blah#blah#blah\n",
    "#blah#blah\n",
    "#blah#blah#blah#blah\n",
    "#blah#blah\n",
    "#blah#blah#blah#blah\n",
    "#blah#blah\n",
    "#blah#blah"
   ]
  }
 ],
 "metadata": {
  "kernelspec": {
   "display_name": "Python 3",
   "language": "python",
   "name": "python3"
  },
  "language_info": {
   "codemirror_mode": {
    "name": "ipython",
    "version": 3
   },
   "file_extension": ".py",
   "mimetype": "text/x-python",
   "name": "python",
   "nbconvert_exporter": "python",
   "pygments_lexer": "ipython3",
   "version": "3.7.3"
  }
 },
 "nbformat": 4,
 "nbformat_minor": 2
}
