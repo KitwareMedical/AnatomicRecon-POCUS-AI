{
 "cells": [
  {
   "cell_type": "code",
   "execution_count": 27,
   "id": "8a0be675",
   "metadata": {},
   "outputs": [],
   "source": [
    "import torch\n",
    "import numpy as np"
   ]
  },
  {
   "cell_type": "code",
   "execution_count": 65,
   "id": "013bb5b1",
   "metadata": {},
   "outputs": [],
   "source": [
    "n = 6\n",
    "im = np.arange(n**2).reshape(n,n).reshape(1,1,n,n)"
   ]
  },
  {
   "cell_type": "code",
   "execution_count": 66,
   "id": "af870ee1",
   "metadata": {},
   "outputs": [],
   "source": [
    "im = torch.from_numpy(im).double()"
   ]
  },
  {
   "cell_type": "code",
   "execution_count": 67,
   "id": "21b1f817",
   "metadata": {},
   "outputs": [],
   "source": [
    "conv = torch.nn.Conv2d(1,1,3,stride=2,padding=1, bias=False).double()"
   ]
  },
  {
   "cell_type": "code",
   "execution_count": 68,
   "id": "d7212fcf",
   "metadata": {},
   "outputs": [],
   "source": [
    "weights = np.zeros([1,1,3,3])\n",
    "weights[0,0,1,1] = 1\n",
    "weights = torch.from_numpy(weights).double()"
   ]
  },
  {
   "cell_type": "code",
   "execution_count": 69,
   "id": "c41e0906",
   "metadata": {},
   "outputs": [],
   "source": [
    "conv.weight = torch.nn.Parameter(weights)"
   ]
  },
  {
   "cell_type": "code",
   "execution_count": 70,
   "id": "e09060cc",
   "metadata": {},
   "outputs": [
    {
     "data": {
      "text/plain": [
       "tensor([[[[ 0.,  2.,  4.],\n",
       "          [12., 14., 16.],\n",
       "          [24., 26., 28.]]]], dtype=torch.float64,\n",
       "       grad_fn=<ThnnConv2DBackward>)"
      ]
     },
     "execution_count": 70,
     "metadata": {},
     "output_type": "execute_result"
    }
   ],
   "source": [
    "out = conv(im)\n",
    "out"
   ]
  },
  {
   "cell_type": "code",
   "execution_count": 71,
   "id": "e8588a4d",
   "metadata": {},
   "outputs": [
    {
     "ename": "SyntaxError",
     "evalue": "invalid syntax (<ipython-input-71-2be1c896ec60>, line 2)",
     "output_type": "error",
     "traceback": [
      "\u001b[0;36m  File \u001b[0;32m\"<ipython-input-71-2be1c896ec60>\"\u001b[0;36m, line \u001b[0;32m2\u001b[0m\n\u001b[0;31m    match a:\u001b[0m\n\u001b[0m          ^\u001b[0m\n\u001b[0;31mSyntaxError\u001b[0m\u001b[0;31m:\u001b[0m invalid syntax\n"
     ]
    }
   ],
   "source": [
    "a = 'blah'\n",
    "match a:\n",
    "    case 'blah':\n",
    "        print('hello')"
   ]
  },
  {
   "cell_type": "code",
   "execution_count": null,
   "id": "098bf1fe",
   "metadata": {},
   "outputs": [],
   "source": []
  }
 ],
 "metadata": {
  "kernelspec": {
   "display_name": "Python 3",
   "language": "python",
   "name": "python3"
  },
  "language_info": {
   "codemirror_mode": {
    "name": "ipython",
    "version": 3
   },
   "file_extension": ".py",
   "mimetype": "text/x-python",
   "name": "python",
   "nbconvert_exporter": "python",
   "pygments_lexer": "ipython3",
   "version": "3.8.8"
  }
 },
 "nbformat": 4,
 "nbformat_minor": 5
}
