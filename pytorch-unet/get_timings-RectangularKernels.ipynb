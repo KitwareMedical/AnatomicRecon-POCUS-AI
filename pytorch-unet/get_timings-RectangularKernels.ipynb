{
 "cells": [
  {
   "cell_type": "code",
   "execution_count": 1,
   "metadata": {},
   "outputs": [],
   "source": [
    "from pytorch_unet import *\n",
    "from torch import nn\n",
    "import pandas as pd\n",
    "from timerit import Timerit\n",
    "from IPython.display import display, HTML"
   ]
  },
  {
   "cell_type": "code",
   "execution_count": 2,
   "metadata": {},
   "outputs": [
    {
     "name": "stdout",
     "output_type": "stream",
     "text": [
      "1.9.0+cu102\n"
     ]
    }
   ],
   "source": [
    "print(torch.__version__)"
   ]
  },
  {
   "cell_type": "code",
   "execution_count": 3,
   "metadata": {},
   "outputs": [],
   "source": [
    "model = UNet_rect_kernels(128,2).eval()\n",
    "\n",
    "x = torch.randn((2,1,128,128))\n",
    "pred = model(x)"
   ]
  },
  {
   "cell_type": "code",
   "execution_count": 4,
   "metadata": {},
   "outputs": [
    {
     "name": "stdout",
     "output_type": "stream",
     "text": [
      "Using device: GeForce RTX 2060 SUPER\n"
     ]
    }
   ],
   "source": [
    "device_name = \" \"\n",
    "if torch.cuda.is_available():\n",
    "    device_name = torch.cuda.get_device_name(torch.cuda.current_device())\n",
    "else:\n",
    "    device_name = 'cpu'\n",
    "    \n",
    "print('Using device:', device_name)\n",
    "\n",
    "device = \" \"\n",
    "if torch.cuda.is_available():\n",
    "    device = 'cuda'\n",
    "else:\n",
    "    device = 'cpu'"
   ]
  },
  {
   "cell_type": "code",
   "execution_count": 5,
   "metadata": {
    "scrolled": true
   },
   "outputs": [
    {
     "name": "stdout",
     "output_type": "stream",
     "text": [
      "Using device: GeForce RTX 2060 SUPER\n",
      "Pytorch Multi-Frame Batch Prediction Timings\n",
      "\"PT\" = Prediction Time\n"
     ]
    },
    {
     "data": {
      "text/html": [
       "<div>\n",
       "<style scoped>\n",
       "    .dataframe tbody tr th:only-of-type {\n",
       "        vertical-align: middle;\n",
       "    }\n",
       "\n",
       "    .dataframe tbody tr th {\n",
       "        vertical-align: top;\n",
       "    }\n",
       "\n",
       "    .dataframe thead th {\n",
       "        text-align: right;\n",
       "    }\n",
       "</style>\n",
       "<table border=\"1\" class=\"dataframe\">\n",
       "  <thead>\n",
       "    <tr style=\"text-align: right;\">\n",
       "      <th></th>\n",
       "      <th>Frames</th>\n",
       "      <th># Samples</th>\n",
       "      <th>First PT (s)</th>\n",
       "      <th>Avg PT (s)</th>\n",
       "      <th>Min PT (s)</th>\n",
       "      <th>Max PT (s)</th>\n",
       "      <th>Std. Dev. (s)</th>\n",
       "    </tr>\n",
       "  </thead>\n",
       "  <tbody>\n",
       "    <tr>\n",
       "      <th>0</th>\n",
       "      <td>2.0</td>\n",
       "      <td>100.0</td>\n",
       "      <td>0.016310</td>\n",
       "      <td>0.00273</td>\n",
       "      <td>0.002552</td>\n",
       "      <td>0.016310</td>\n",
       "      <td>0.00136</td>\n",
       "    </tr>\n",
       "    <tr>\n",
       "      <th>1</th>\n",
       "      <td>10.0</td>\n",
       "      <td>100.0</td>\n",
       "      <td>0.003863</td>\n",
       "      <td>0.00268</td>\n",
       "      <td>0.002648</td>\n",
       "      <td>0.003863</td>\n",
       "      <td>0.00013</td>\n",
       "    </tr>\n",
       "    <tr>\n",
       "      <th>2</th>\n",
       "      <td>20.0</td>\n",
       "      <td>100.0</td>\n",
       "      <td>0.003505</td>\n",
       "      <td>0.00281</td>\n",
       "      <td>0.002729</td>\n",
       "      <td>0.003505</td>\n",
       "      <td>0.00013</td>\n",
       "    </tr>\n",
       "    <tr>\n",
       "      <th>3</th>\n",
       "      <td>30.0</td>\n",
       "      <td>100.0</td>\n",
       "      <td>0.004076</td>\n",
       "      <td>0.00318</td>\n",
       "      <td>0.002916</td>\n",
       "      <td>0.004076</td>\n",
       "      <td>0.00025</td>\n",
       "    </tr>\n",
       "    <tr>\n",
       "      <th>4</th>\n",
       "      <td>40.0</td>\n",
       "      <td>100.0</td>\n",
       "      <td>0.004175</td>\n",
       "      <td>0.00320</td>\n",
       "      <td>0.003012</td>\n",
       "      <td>0.004943</td>\n",
       "      <td>0.00028</td>\n",
       "    </tr>\n",
       "    <tr>\n",
       "      <th>5</th>\n",
       "      <td>50.0</td>\n",
       "      <td>100.0</td>\n",
       "      <td>0.004961</td>\n",
       "      <td>0.00340</td>\n",
       "      <td>0.003146</td>\n",
       "      <td>0.004961</td>\n",
       "      <td>0.00021</td>\n",
       "    </tr>\n",
       "  </tbody>\n",
       "</table>\n",
       "</div>"
      ],
      "text/plain": [
       "   Frames  # Samples  First PT (s)  Avg PT (s)  Min PT (s)  Max PT (s)  \\\n",
       "0     2.0      100.0      0.016310     0.00273    0.002552    0.016310   \n",
       "1    10.0      100.0      0.003863     0.00268    0.002648    0.003863   \n",
       "2    20.0      100.0      0.003505     0.00281    0.002729    0.003505   \n",
       "3    30.0      100.0      0.004076     0.00318    0.002916    0.004076   \n",
       "4    40.0      100.0      0.004175     0.00320    0.003012    0.004943   \n",
       "5    50.0      100.0      0.004961     0.00340    0.003146    0.004961   \n",
       "\n",
       "   Std. Dev. (s)  \n",
       "0        0.00136  \n",
       "1        0.00013  \n",
       "2        0.00013  \n",
       "3        0.00025  \n",
       "4        0.00028  \n",
       "5        0.00021  "
      ]
     },
     "metadata": {},
     "output_type": "display_data"
    }
   ],
   "source": [
    "metric_labels = [\n",
    "    \"Frames\",\n",
    "    \"# Samples\",\n",
    "    \"First PT (s)\",\n",
    "    \"Avg PT (s)\",\n",
    "    \"Min PT (s)\",\n",
    "    \"Max PT (s)\",\n",
    "    \"Std. Dev. (s)\",\n",
    "]\n",
    "    \n",
    "print('Using device:', device_name)\n",
    "\n",
    "results_df = pd.DataFrame(columns = metric_labels)\n",
    "frames = [2, 10, 20, 30, 40, 50]\n",
    "for l in range(len(frames)):\n",
    "\n",
    "    model = UNet(128,2)\n",
    "    if device == 'cuda':\n",
    "        model = model.to(torch.device('cuda'))\n",
    "    t = Timerit(num = 100, verbose=0)\n",
    "    \n",
    "    model = model.eval()\n",
    "    \n",
    "    for timer in t:\n",
    "        x = torch.randn((frames[l],1,128,128))\n",
    "        with timer:\n",
    "            x = x.to(device)\n",
    "            pred = model(x)\n",
    "    \n",
    "    mf_times = t.times\n",
    "    \n",
    "    results_df.loc[l] = [\n",
    "        frames[l],\n",
    "        100,\n",
    "        mf_times[0],\n",
    "        int((np.mean(mf_times)*100000)) / 100000,\n",
    "        np.min(mf_times),\n",
    "        np.max(mf_times),\n",
    "        int((np.std(mf_times)*100000)) / 100000\n",
    "    ]\n",
    "\n",
    "print('Pytorch Multi-Frame Batch Prediction Timings')\n",
    "print('\"PT\" = Prediction Time')\n",
    "display(results_df)"
   ]
  },
  {
   "cell_type": "code",
   "execution_count": null,
   "metadata": {},
   "outputs": [],
   "source": []
  }
 ],
 "metadata": {
  "kernelspec": {
   "display_name": "Python 3",
   "language": "python",
   "name": "python3"
  },
  "language_info": {
   "codemirror_mode": {
    "name": "ipython",
    "version": 3
   },
   "file_extension": ".py",
   "mimetype": "text/x-python",
   "name": "python",
   "nbconvert_exporter": "python",
   "pygments_lexer": "ipython3",
   "version": "3.7.3"
  }
 },
 "nbformat": 4,
 "nbformat_minor": 4
}
