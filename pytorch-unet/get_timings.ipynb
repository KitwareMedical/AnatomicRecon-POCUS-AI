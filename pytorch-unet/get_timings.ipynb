{
 "cells": [
  {
   "cell_type": "code",
   "execution_count": 1,
   "metadata": {},
   "outputs": [],
   "source": [
    "from pytorch_unet import *\n",
    "from torch import nn\n",
    "import pandas as pd\n",
    "from timerit import Timerit\n",
    "from IPython.display import display, HTML"
   ]
  },
  {
   "cell_type": "code",
   "execution_count": 2,
   "metadata": {},
   "outputs": [
    {
     "name": "stdout",
     "output_type": "stream",
     "text": [
      "1.9.0+cu102\n"
     ]
    }
   ],
   "source": [
    "print(torch.__version__)"
   ]
  },
  {
   "cell_type": "code",
   "execution_count": 3,
   "metadata": {},
   "outputs": [
    {
     "name": "stderr",
     "output_type": "stream",
     "text": [
      "/home/nick/anaconda3/lib/python3.7/site-packages/torch/nn/modules/conv.py:440: UserWarning: Using padding='same' with even kernel lengths and odd dilation may require a zero-padded copy of the input be created (Triggered internally at  /pytorch/aten/src/ATen/native/Convolution.cpp:660.)\n",
      "  self.padding, self.dilation, self.groups)\n"
     ]
    }
   ],
   "source": [
    "model = UNet(128,2).eval()\n",
    "\n",
    "x = torch.randn((2,1,128,128))\n",
    "pred = model(x)"
   ]
  },
  {
   "cell_type": "code",
   "execution_count": 5,
   "metadata": {},
   "outputs": [
    {
     "name": "stdout",
     "output_type": "stream",
     "text": [
      "Using device: GeForce RTX 2060 SUPER\n",
      "Pytorch Multi-Frame Batch Prediction Timings\n",
      "\"PT\" = Prediction Time\n"
     ]
    },
    {
     "data": {
      "text/html": [
       "<div>\n",
       "<style scoped>\n",
       "    .dataframe tbody tr th:only-of-type {\n",
       "        vertical-align: middle;\n",
       "    }\n",
       "\n",
       "    .dataframe tbody tr th {\n",
       "        vertical-align: top;\n",
       "    }\n",
       "\n",
       "    .dataframe thead th {\n",
       "        text-align: right;\n",
       "    }\n",
       "</style>\n",
       "<table border=\"1\" class=\"dataframe\">\n",
       "  <thead>\n",
       "    <tr style=\"text-align: right;\">\n",
       "      <th></th>\n",
       "      <th>Frames</th>\n",
       "      <th># Samples</th>\n",
       "      <th>First PT (s)</th>\n",
       "      <th>Avg PT (s)</th>\n",
       "      <th>Min PT (s)</th>\n",
       "      <th>Max PT (s)</th>\n",
       "      <th>Std. Dev. (s)</th>\n",
       "    </tr>\n",
       "  </thead>\n",
       "  <tbody>\n",
       "    <tr>\n",
       "      <th>0</th>\n",
       "      <td>2.0</td>\n",
       "      <td>100.0</td>\n",
       "      <td>0.011778</td>\n",
       "      <td>0.00833</td>\n",
       "      <td>0.007800</td>\n",
       "      <td>0.011778</td>\n",
       "      <td>0.00090</td>\n",
       "    </tr>\n",
       "    <tr>\n",
       "      <th>1</th>\n",
       "      <td>10.0</td>\n",
       "      <td>100.0</td>\n",
       "      <td>0.023227</td>\n",
       "      <td>0.02364</td>\n",
       "      <td>0.022624</td>\n",
       "      <td>0.034185</td>\n",
       "      <td>0.00184</td>\n",
       "    </tr>\n",
       "    <tr>\n",
       "      <th>2</th>\n",
       "      <td>20.0</td>\n",
       "      <td>100.0</td>\n",
       "      <td>0.044131</td>\n",
       "      <td>0.04507</td>\n",
       "      <td>0.043827</td>\n",
       "      <td>0.067022</td>\n",
       "      <td>0.00268</td>\n",
       "    </tr>\n",
       "    <tr>\n",
       "      <th>3</th>\n",
       "      <td>30.0</td>\n",
       "      <td>100.0</td>\n",
       "      <td>0.067802</td>\n",
       "      <td>0.06785</td>\n",
       "      <td>0.065293</td>\n",
       "      <td>0.094737</td>\n",
       "      <td>0.00429</td>\n",
       "    </tr>\n",
       "    <tr>\n",
       "      <th>4</th>\n",
       "      <td>40.0</td>\n",
       "      <td>100.0</td>\n",
       "      <td>0.094432</td>\n",
       "      <td>0.09266</td>\n",
       "      <td>0.089508</td>\n",
       "      <td>0.114602</td>\n",
       "      <td>0.00364</td>\n",
       "    </tr>\n",
       "    <tr>\n",
       "      <th>5</th>\n",
       "      <td>50.0</td>\n",
       "      <td>100.0</td>\n",
       "      <td>0.119095</td>\n",
       "      <td>0.12155</td>\n",
       "      <td>0.114479</td>\n",
       "      <td>0.143959</td>\n",
       "      <td>0.00531</td>\n",
       "    </tr>\n",
       "  </tbody>\n",
       "</table>\n",
       "</div>"
      ],
      "text/plain": [
       "   Frames  # Samples  First PT (s)  Avg PT (s)  Min PT (s)  Max PT (s)  \\\n",
       "0     2.0      100.0      0.011778     0.00833    0.007800    0.011778   \n",
       "1    10.0      100.0      0.023227     0.02364    0.022624    0.034185   \n",
       "2    20.0      100.0      0.044131     0.04507    0.043827    0.067022   \n",
       "3    30.0      100.0      0.067802     0.06785    0.065293    0.094737   \n",
       "4    40.0      100.0      0.094432     0.09266    0.089508    0.114602   \n",
       "5    50.0      100.0      0.119095     0.12155    0.114479    0.143959   \n",
       "\n",
       "   Std. Dev. (s)  \n",
       "0        0.00090  \n",
       "1        0.00184  \n",
       "2        0.00268  \n",
       "3        0.00429  \n",
       "4        0.00364  \n",
       "5        0.00531  "
      ]
     },
     "metadata": {},
     "output_type": "display_data"
    }
   ],
   "source": [
    "metric_labels = [\n",
    "    \"Frames\",\n",
    "    \"# Samples\",\n",
    "    \"First PT (s)\",\n",
    "    \"Avg PT (s)\",\n",
    "    \"Min PT (s)\",\n",
    "    \"Max PT (s)\",\n",
    "    \"Std. Dev. (s)\",\n",
    "]\n",
    "\n",
    "device = \" \"\n",
    "if torch.cuda.is_available():\n",
    "    device = torch.cuda.get_device_name(torch.cuda.current_device())\n",
    "else:\n",
    "    device = 'cpu'\n",
    "    \n",
    "print('Using device:', device)\n",
    "\n",
    "results_df = pd.DataFrame(columns = metric_labels)\n",
    "frames = [2, 10, 20, 30, 40, 50]\n",
    "for l in range(len(frames)):\n",
    "    model = UNet(128,2).eval()\n",
    "    t = Timerit(num = 100, verbose=0)\n",
    "    \n",
    "    for timer in t:\n",
    "        x = torch.randn((frames[l],1,128,128))\n",
    "        with timer:\n",
    "            pred = model(x)\n",
    "    \n",
    "    mf_times = t.times\n",
    "    \n",
    "    results_df.loc[l] = [\n",
    "        frames[l],\n",
    "        100,\n",
    "        mf_times[0],\n",
    "        int((np.mean(mf_times)*100000)) / 100000,\n",
    "        np.min(mf_times),\n",
    "        np.max(mf_times),\n",
    "        int((np.std(mf_times)*100000)) / 100000\n",
    "    ]\n",
    "\n",
    "print('Pytorch Multi-Frame Batch Prediction Timings')\n",
    "print('\"PT\" = Prediction Time')\n",
    "display(results_df)"
   ]
  }
 ],
 "metadata": {
  "kernelspec": {
   "display_name": "Python 3",
   "language": "python",
   "name": "python3"
  },
  "language_info": {
   "codemirror_mode": {
    "name": "ipython",
    "version": 3
   },
   "file_extension": ".py",
   "mimetype": "text/x-python",
   "name": "python",
   "nbconvert_exporter": "python",
   "pygments_lexer": "ipython3",
   "version": "3.7.3"
  }
 },
 "nbformat": 4,
 "nbformat_minor": 4
}
