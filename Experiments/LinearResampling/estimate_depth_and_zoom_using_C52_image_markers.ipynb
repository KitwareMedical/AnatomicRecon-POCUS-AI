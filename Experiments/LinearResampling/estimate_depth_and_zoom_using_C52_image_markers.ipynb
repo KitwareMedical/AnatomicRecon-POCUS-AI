{
 "cells": [
  {
   "cell_type": "code",
   "execution_count": 27,
   "metadata": {},
   "outputs": [],
   "source": [
    "import numpy as np\n",
    "import scipy as sp\n",
    "from scipy.stats import multivariate_normal\n",
    "from scipy      import optimize\n",
    "import skimage\n",
    "import matplotlib.pyplot as plt\n",
    "import imageio\n",
    "import pylab\n",
    "from glob import glob\n",
    "import sys\n",
    "import itk\n",
    "from itkwidgets import view\n",
    "from itk import TubeTK as ttk\n",
    "\n",
    "import site\n",
    "site.addsitedir('../../ARGUS')\n",
    "from ARGUSUtils_IO import *"
   ]
  },
  {
   "cell_type": "code",
   "execution_count": 28,
   "metadata": {},
   "outputs": [],
   "source": [
    "data_paths = sorted(glob(\"../../Data/TrainingData/AR-UNet/BAMC-PTX*Sliding/*.m??\"))"
   ]
  },
  {
   "cell_type": "code",
   "execution_count": 29,
   "metadata": {},
   "outputs": [
    {
     "data": {
      "text/plain": [
       "['../../Data/TrainingData/AR-UNet\\\\BAMC-PTXNoSliding\\\\Image_262499828648_clean.mp4',\n",
       " '../../Data/TrainingData/AR-UNet\\\\BAMC-PTXNoSliding\\\\image_1083297968960_clean.mp4',\n",
       " '../../Data/TrainingData/AR-UNet\\\\BAMC-PTXNoSliding\\\\image_1087766719219_clean.mp4',\n",
       " '../../Data/TrainingData/AR-UNet\\\\BAMC-PTXNoSliding\\\\image_1394469579519_clean.mp4',\n",
       " '../../Data/TrainingData/AR-UNet\\\\BAMC-PTXNoSliding\\\\image_1404802450036_clean.mp4',\n",
       " '../../Data/TrainingData/AR-UNet\\\\BAMC-PTXNoSliding\\\\image_1543571117118_clean.mp4',\n",
       " '../../Data/TrainingData/AR-UNet\\\\BAMC-PTXNoSliding\\\\image_1749559540112_clean.mp4',\n",
       " '../../Data/TrainingData/AR-UNet\\\\BAMC-PTXNoSliding\\\\image_1884162273498_clean.mov',\n",
       " '../../Data/TrainingData/AR-UNet\\\\BAMC-PTXNoSliding\\\\image_1895283541879_clean.mov',\n",
       " '../../Data/TrainingData/AR-UNet\\\\BAMC-PTXNoSliding\\\\image_2418161753608_clean.mp4',\n",
       " '../../Data/TrainingData/AR-UNet\\\\BAMC-PTXNoSliding\\\\image_2454526567135_CLEAN.mp4',\n",
       " '../../Data/TrainingData/AR-UNet\\\\BAMC-PTXNoSliding\\\\image_267456908021_clean.mp4',\n",
       " '../../Data/TrainingData/AR-UNet\\\\BAMC-PTXNoSliding\\\\image_27180764486244_CLEAN.mp4',\n",
       " '../../Data/TrainingData/AR-UNet\\\\BAMC-PTXNoSliding\\\\image_27185428518326_CLEAN.mp4',\n",
       " '../../Data/TrainingData/AR-UNet\\\\BAMC-PTXNoSliding\\\\image_2734882394424_CLEAN.mov',\n",
       " '../../Data/TrainingData/AR-UNet\\\\BAMC-PTXNoSliding\\\\image_2743083265515_CLEAN.mov',\n",
       " '../../Data/TrainingData/AR-UNet\\\\BAMC-PTXNoSliding\\\\image_417221672548_CLEAN.mp4',\n",
       " '../../Data/TrainingData/AR-UNet\\\\BAMC-PTXNoSliding\\\\image_426794579576_CLEAN.mp4',\n",
       " '../../Data/TrainingData/AR-UNet\\\\BAMC-PTXNoSliding\\\\image_4641643404894_CLEAN.mp4',\n",
       " '../../Data/TrainingData/AR-UNet\\\\BAMC-PTXNoSliding\\\\image_4743880599022_clean.mp4',\n",
       " '../../Data/TrainingData/AR-UNet\\\\BAMC-PTXNoSliding\\\\image_573611404207_CLEAN.mov',\n",
       " '../../Data/TrainingData/AR-UNet\\\\BAMC-PTXNoSliding\\\\image_584357289931_clean.mov',\n",
       " '../../Data/TrainingData/AR-UNet\\\\BAMC-PTXNoSliding\\\\image_588695055398_clean.mov',\n",
       " '../../Data/TrainingData/AR-UNet\\\\BAMC-PTXNoSliding\\\\image_603665940081_clean.mov',\n",
       " '../../Data/TrainingData/AR-UNet\\\\BAMC-PTXNoSliding\\\\image_6056976176281_CLEAN.mov',\n",
       " '../../Data/TrainingData/AR-UNet\\\\BAMC-PTXNoSliding\\\\image_610066411380_CLEAN.mov',\n",
       " '../../Data/TrainingData/AR-UNet\\\\BAMC-PTXNoSliding\\\\image_614587120545_clean.mov',\n",
       " '../../Data/TrainingData/AR-UNet\\\\BAMC-PTXNoSliding\\\\image_634125159704_CLEAN.mp4',\n",
       " '../../Data/TrainingData/AR-UNet\\\\BAMC-PTXNoSliding\\\\image_6370410622099_CLEAN.mov',\n",
       " '../../Data/TrainingData/AR-UNet\\\\BAMC-PTXNoSliding\\\\image_642169070951_clean.mp4',\n",
       " '../../Data/TrainingData/AR-UNet\\\\BAMC-PTXSliding\\\\image_10391571128899_CLEAN.mp4',\n",
       " '../../Data/TrainingData/AR-UNet\\\\BAMC-PTXSliding\\\\image_10395655826502_CLEAN.mp4',\n",
       " '../../Data/TrainingData/AR-UNet\\\\BAMC-PTXSliding\\\\image_104543812690743_CLEAN.mov',\n",
       " '../../Data/TrainingData/AR-UNet\\\\BAMC-PTXSliding\\\\image_104548309385533_CLEAN.mov',\n",
       " '../../Data/TrainingData/AR-UNet\\\\BAMC-PTXSliding\\\\image_104932526155699_CLEAN.mov',\n",
       " '../../Data/TrainingData/AR-UNet\\\\BAMC-PTXSliding\\\\image_10705997566592_CLEAN.mp4',\n",
       " '../../Data/TrainingData/AR-UNet\\\\BAMC-PTXSliding\\\\image_10891015221417_clean.mp4',\n",
       " '../../Data/TrainingData/AR-UNet\\\\BAMC-PTXSliding\\\\image_1139765223418_CLEAN.mov',\n",
       " '../../Data/TrainingData/AR-UNet\\\\BAMC-PTXSliding\\\\image_1180496934444_clean.mp4',\n",
       " '../../Data/TrainingData/AR-UNet\\\\BAMC-PTXSliding\\\\image_128683942015128_CLEAN.mov',\n",
       " '../../Data/TrainingData/AR-UNet\\\\BAMC-PTXSliding\\\\image_128688523296793_CLEAN.mov',\n",
       " '../../Data/TrainingData/AR-UNet\\\\BAMC-PTXSliding\\\\image_128692595484031_CLEAN.mov',\n",
       " '../../Data/TrainingData/AR-UNet\\\\BAMC-PTXSliding\\\\image_1327616672148_clean.mp4',\n",
       " '../../Data/TrainingData/AR-UNet\\\\BAMC-PTXSliding\\\\image_1499268364374_clean.mov',\n",
       " '../../Data/TrainingData/AR-UNet\\\\BAMC-PTXSliding\\\\image_1511338287338_clean.mov',\n",
       " '../../Data/TrainingData/AR-UNet\\\\BAMC-PTXSliding\\\\image_1896534330004_clean.mp4',\n",
       " '../../Data/TrainingData/AR-UNet\\\\BAMC-PTXSliding\\\\image_1901852337971_clean.mp4',\n",
       " '../../Data/TrainingData/AR-UNet\\\\BAMC-PTXSliding\\\\image_24164968068436_CLEAN.mp4',\n",
       " '../../Data/TrainingData/AR-UNet\\\\BAMC-PTXSliding\\\\image_2959672151786_clean.mp4',\n",
       " '../../Data/TrainingData/AR-UNet\\\\BAMC-PTXSliding\\\\image_3308406916756_clean.mov',\n",
       " '../../Data/TrainingData/AR-UNet\\\\BAMC-PTXSliding\\\\image_3315947589826_clean.mov',\n",
       " '../../Data/TrainingData/AR-UNet\\\\BAMC-PTXSliding\\\\image_3320344386805_clean.mp4',\n",
       " '../../Data/TrainingData/AR-UNet\\\\BAMC-PTXSliding\\\\image_3321463845606_clean.mp4',\n",
       " '../../Data/TrainingData/AR-UNet\\\\BAMC-PTXSliding\\\\image_3368391807672_clean.mp4',\n",
       " '../../Data/TrainingData/AR-UNet\\\\BAMC-PTXSliding\\\\image_3384882513134_clean.mp4',\n",
       " '../../Data/TrainingData/AR-UNet\\\\BAMC-PTXSliding\\\\image_3401832241774_clean.mp4',\n",
       " '../../Data/TrainingData/AR-UNet\\\\BAMC-PTXSliding\\\\image_3925135436261_clean.mov',\n",
       " '../../Data/TrainingData/AR-UNet\\\\BAMC-PTXSliding\\\\image_3929217595322_clean.mov',\n",
       " '../../Data/TrainingData/AR-UNet\\\\BAMC-PTXSliding\\\\image_588413346180_CLEAN.mp4',\n",
       " '../../Data/TrainingData/AR-UNet\\\\BAMC-PTXSliding\\\\image_677741729740_clean.mp4',\n",
       " '../../Data/TrainingData/AR-UNet\\\\BAMC-PTXSliding\\\\image_73815992352100_clean.mp4',\n",
       " '../../Data/TrainingData/AR-UNet\\\\BAMC-PTXSliding\\\\image_74132233134844_clean.mp4']"
      ]
     },
     "execution_count": 29,
     "metadata": {},
     "output_type": "execute_result"
    }
   ],
   "source": [
    "data_paths"
   ]
  },
  {
   "cell_type": "code",
   "execution_count": 30,
   "metadata": {},
   "outputs": [
    {
     "name": "stdout",
     "output_type": "stream",
     "text": [
      "(1080, 1920)\n"
     ]
    }
   ],
   "source": [
    "num_vid = len(data_paths)\n",
    "\n",
    "min_frame = 2\n",
    "max_frame = 4\n",
    "num_frame = max_frame-min_frame\n",
    "\n",
    "height,width = shape_video(data_paths[0])\n",
    "vid_shape = (height,width)\n",
    "print(vid_shape)"
   ]
  },
  {
   "cell_type": "code",
   "execution_count": 53,
   "metadata": {},
   "outputs": [
    {
     "name": "stderr",
     "output_type": "stream",
     "text": [
      "Using non-standard frame rate 10240/512\n",
      "Using non-standard frame rate 10240/512\n"
     ]
    }
   ],
   "source": [
    "ims = np.zeros((num_vid,vid_shape[0],vid_shape[1]), dtype = np.float32)\n",
    "\n",
    "# Compute an image that is the mean of the first num_vid frames\n",
    "for i in [1,7]:#range(num_vid):\n",
    "    vid = load_video(data_paths[i])\n",
    "    img = np.squeeze(np.max(vid[min_frame:max_frame,:,:],axis=0))\n",
    "    ims[i] = img-1"
   ]
  },
  {
   "cell_type": "code",
   "execution_count": 58,
   "metadata": {},
   "outputs": [
    {
     "data": {
      "application/vnd.jupyter.widget-view+json": {
       "model_id": "1255df35fff24769932ab59848059c7e",
       "version_major": 2,
       "version_minor": 0
      },
      "text/plain": [
       "Viewer(geometries=[], gradient_opacity=0.22, point_sets=[], rendered_image=<itk.itkImagePython.itkImageF2; pro…"
      ]
     },
     "metadata": {},
     "output_type": "display_data"
    }
   ],
   "source": [
    "view(ims[7])"
   ]
  },
  {
   "cell_type": "code",
   "execution_count": 59,
   "metadata": {},
   "outputs": [
    {
     "data": {
      "text/plain": [
       "[<matplotlib.lines.Line2D at 0x1de04698948>]"
      ]
     },
     "execution_count": 59,
     "metadata": {},
     "output_type": "execute_result"
    },
    {
     "data": {
      "image/png": "[encoded data removed]",
      "text/plain": [
       "<Figure size 432x288 with 1 Axes>"
      ]
     },
     "metadata": {
      "needs_background": "light"
     },
     "output_type": "display_data"
    }
   ],
   "source": [
    "y_min = 80\n",
    "y_max = 1080\n",
    "imt = (ims[1,y_min:y_max,10:12]/200).astype(int)\n",
    "mid1 = np.mean(imt,axis=1)\n",
    "imt = (ims[7,y_min:y_max,10:12]/200).astype(int)\n",
    "mid2 = np.mean(imt,axis=1)\n",
    "plt.plot(mid1+mid2)"
   ]
  },
  {
   "cell_type": "code",
   "execution_count": 60,
   "metadata": {},
   "outputs": [],
   "source": [
    "def get_ruler_points_C52(im):\n",
    "    \"\"\" Find points along ruler on left side of image \"\"\"\n",
    "    y_min = 80\n",
    "    y_max = 1080\n",
    "    min_x = 10\n",
    "    max_x = 12\n",
    "    mid = np.mean((im[y_min:y_max,min_x:max_x]/200).astype(int),axis=1)\n",
    "    y = np.flatnonzero(mid)\n",
    "    return y"
   ]
  },
  {
   "cell_type": "code",
   "execution_count": 66,
   "metadata": {},
   "outputs": [],
   "source": [
    "def get_depth_and_zoom_C52(im):\n",
    "    y = get_ruler_points_C52(im)\n",
    "\n",
    "    avg = 0\n",
    "    count = 0\n",
    "    yCenters = []\n",
    "    for j in range(y.size-1):\n",
    "        avg += y[j]\n",
    "        count += 1\n",
    "        if(y[j+1]-y[j]>5):\n",
    "            avg /= count\n",
    "            yCenters.append(avg)\n",
    "            avg = 0\n",
    "            count = 0\n",
    "    avg += y[y.size-1]\n",
    "    count += 1\n",
    "    avg /= count\n",
    "    yCenters.append(avg)\n",
    "    avg = 0\n",
    "    for j in range(len(yCenters)-1):\n",
    "        avg += yCenters[j+1]-yCenters[j]\n",
    "    avg /= len(yCenters)-1    \n",
    "    \n",
    "    tic_num = len(yCenters)\n",
    "    tic_min = yCenters[0]\n",
    "    tic_max = yCenters[len(yCenters)-1]\n",
    "    tic_diff = avg\n",
    "    if(tic_num==17):\n",
    "        tic_depth = 16\n",
    "        tic_scale = tic_diff/54.4375\n",
    "    elif(tic_num==13):\n",
    "        tic_depth = 12\n",
    "        tic_scale = tic_diff/55.5\n",
    "    elif(tic_num==11):\n",
    "        tic_depth = 5\n",
    "        tic_scale = tic_diff/38.0\n",
    "    else:\n",
    "        print(\"ERROR: Unknown image depth!\")\n",
    "        print(\"   Num tics = \", tic_num, \"   diff = \", tic_diff)\n",
    "        \n",
    "    return tic_depth,tic_scale,tic_num,tic_min,tic_max,tic_diff"
   ]
  },
  {
   "cell_type": "code",
   "execution_count": 68,
   "metadata": {},
   "outputs": [
    {
     "name": "stdout",
     "output_type": "stream",
     "text": [
      "1 ../../Data/TrainingData/AR-UNet\\BAMC-PTXNoSliding\\image_1083297968960_clean.mp4\n",
      "    12.0 cm @ scale =  1.0\n",
      "7 ../../Data/TrainingData/AR-UNet\\BAMC-PTXNoSliding\\image_1884162273498_clean.mov\n",
      "    12.0 cm @ scale =  1.2627627627627627\n"
     ]
    }
   ],
   "source": [
    "vid_tic_num = np.zeros(num_vid)\n",
    "vid_tic_min = np.zeros(num_vid)\n",
    "vid_tic_max = np.zeros(num_vid)\n",
    "vid_tic_diff = np.zeros(num_vid)\n",
    "vid_tic_depth = np.zeros(num_vid)\n",
    "vid_tic_scale = np.zeros(num_vid)\n",
    "im_mask_depth = [5,12,16]\n",
    "im_mask = np.zeros((len(im_mask_depth), vid_shape[0],vid_shape[1]), dtype = np.float32)\n",
    "for i in [1,7]:#range(num_vid):\n",
    "    print(i, data_paths[i])\n",
    "    tic_depth, tic_scale, tic_num, tic_min, tic_max, tic_diff = get_depth_and_zoom_C52(ims[i])\n",
    "    vid_tic_num[i] = tic_num\n",
    "    vid_tic_min[i] = tic_min\n",
    "    vid_tic_max[i] = tic_max\n",
    "    vid_tic_diff[i] = tic_diff\n",
    "    vid_tic_depth[i] = tic_depth\n",
    "    vid_tic_scale[i] = tic_scale\n",
    "    print(\"   \", vid_tic_depth[i], \"cm @ scale = \", vid_tic_scale[i])\n",
    "    for j in range(3):\n",
    "        if(vid_tic_depth[i]==im_mask_depth[j] and vid_tic_scale[i]==1):\n",
    "            im_mask[j]+=ims[i]\n"
   ]
  },
  {
   "cell_type": "code",
   "execution_count": 112,
   "metadata": {},
   "outputs": [
    {
     "data": {
      "text/plain": [
       "[<matplotlib.lines.Line2D at 0x1de1f448fc8>]"
      ]
     },
     "execution_count": 112,
     "metadata": {},
     "output_type": "execute_result"
    },
    {
     "data": {
      "image/png": "[encoded data removed]",
      "text/plain": [
       "<Figure size 432x288 with 1 Axes>"
      ]
     },
     "metadata": {
      "needs_background": "light"
     },
     "output_type": "display_data"
    }
   ],
   "source": [
    "imt = (ims[1,y_min:y_max,10:12]/200).astype(int)\n",
    "mid1 = np.mean(imt,axis=1)\n",
    "imt = (ims[7,y_min:y_max,10:12]/200).astype(int)\n",
    "mid2 = np.mean(imt,axis=1)\n",
    "mid3 = np.zeros(len(mid1))\n",
    "for i in range(len(mid2)):\n",
    "    x = 80+i\n",
    "    z = 1.2626262627\n",
    "    offset = 62\n",
    "    xx = x/z - 62 + 80\n",
    "    if(xx>=0 and xx<len(mid1)):\n",
    "        mid3[int(xx)] = mid2[i]\n",
    "plt.plot(mid1,'r')\n",
    "plt.plot(mid3,'k')\n"
   ]
  },
  {
   "cell_type": "code",
   "execution_count": 69,
   "metadata": {},
   "outputs": [],
   "source": [
    "for i in range(3):\n",
    "    img = itk.GetImageFromArray(im_mask[i])\n",
    "    imMath = ttk.ImageMath.New(img)\n",
    "    imMath.Threshold(-1,0,0,1)\n",
    "    imMath.Dilate(15,1,0)\n",
    "    imMath.Erode(17,1,0)\n",
    "    imMath.Dilate(2,1,0)\n",
    "    imMath.IntensityWindow(0,1,0,255)\n",
    "    itk.imwrite(imMath.GetOutputUChar(), \"EstimatedMask_Depth\"+str(im_mask_depth[i])+\".png\")\n"
   ]
  }
 ],
 "metadata": {
  "kernelspec": {
   "display_name": "Python 3",
   "language": "python",
   "name": "python3"
  },
  "language_info": {
   "codemirror_mode": {
    "name": "ipython",
    "version": 3
   },
   "file_extension": ".py",
   "mimetype": "text/x-python",
   "name": "python",
   "nbconvert_exporter": "python",
   "pygments_lexer": "ipython3",
   "version": "3.7.10"
  }
 },
 "nbformat": 4,
 "nbformat_minor": 4
}
