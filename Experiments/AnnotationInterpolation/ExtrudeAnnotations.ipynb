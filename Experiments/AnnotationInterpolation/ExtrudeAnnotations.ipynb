{
 "cells": [
  {
   "cell_type": "code",
   "execution_count": 5,
   "metadata": {},
   "outputs": [],
   "source": [
    "import numpy as np\n",
    "import scipy as sp\n",
    "\n",
    "import scipy\n",
    "from scipy.stats import multivariate_normal\n",
    "from scipy       import optimize\n",
    "\n",
    "import skimage\n",
    "\n",
    "import matplotlib.pyplot as plt\n",
    "\n",
    "import pylab\n",
    "\n",
    "from glob import glob\n",
    "import sys\n",
    "import os\n",
    "\n",
    "from tqdm import tqdm\n",
    "\n",
    "import math\n",
    "\n",
    "from glob import glob\n",
    "\n",
    "import matplotlib.pyplot as plt\n",
    "\n",
    "import itk\n",
    "from itk import TubeTK as ttk\n",
    "\n",
    "import av\n",
    "import ffmpeg\n",
    "\n",
    "import json\n",
    "\n",
    "import site\n",
    "site.addsitedir('../../ARGUS')\n",
    "from ARGUSUtils_IO import *\n",
    "from ARGUSUtils_Linearization import *"
   ]
  },
  {
   "cell_type": "code",
   "execution_count": 103,
   "metadata": {
    "scrolled": true
   },
   "outputs": [],
   "source": [
    "def extrude_column(ovrimg, col, val):\n",
    "    col = int(col)\n",
    "    z_count = 0\n",
    "    z_mid = 0\n",
    "    for z in range(ovrimg.shape[0]):\n",
    "        val_count = np.count_nonzero(ovrimg[z,:,col]==val)\n",
    "        if val_count>0:\n",
    "            z_count += 1\n",
    "            pos = np.where(ovrimg[z,:,col]==val)\n",
    "            first = pos[0][0]\n",
    "            last = pos[0][-1]\n",
    "            mid = (first+last)//2\n",
    "            z_mid += mid\n",
    "    if z_count > img.shape[0]//2:\n",
    "        z_mid /= z_count\n",
    "        ovrimg[:,:mid,col]=0\n",
    "        ovrimg[:,mid:,col]=val\n",
    "    else:\n",
    "        ovrimg[:,:,col]=0\n",
    "    \n",
    "def extrude_annotations(pathname):\n",
    "    data_paths = sorted(glob(pathname+\"-Annotations-Linear/*_?????.mha\"))\n",
    "    data_overlay_paths = sorted(glob(pathname+\"-Annotations-Linear/*_?????.interpolated-overlay.mha\"))\n",
    "    \n",
    "    num_overlays = len(data_overlay_paths)\n",
    "    for i in range(num_overlays):\n",
    "        ovrimg = itk.imread(data_overlay_paths[i], itk.UC)\n",
    "        print(\"Processing\", data_overlay_paths[i])\n",
    "        for c in range(ovrimg.shape[2]):\n",
    "            nos = np.count_nonzero(ovrimg[:,:,c]==1)\n",
    "            rib = np.count_nonzero(ovrimg[:,:,c]==2)\n",
    "            sli = np.count_nonzero(ovrimg[:,:,c]==3)\n",
    "            if nos>0 and rib==0 and sli==0:\n",
    "                extrude_column(ovrimg,c,1)\n",
    "            elif nos==0 and rib>0 and sli==0:\n",
    "                extrude_column(ovrimg,c,2)\n",
    "            elif nos==0 and rib==0 and sli>0:\n",
    "                extrude_column(ovrimg,c,3)\n",
    "            else:\n",
    "                ovrimg[:,:,c]=0\n",
    "                \n",
    "        img = itk.imread(data_paths[i], itk.F)\n",
    "        imMath = ttk.ImageMath.New(img)\n",
    "        imMath.Threshold(0,50,0,1)\n",
    "        imMath.Dilate(10,1,0)\n",
    "        img = imMath.GetOutputUChar()\n",
    "        connComp = ttk.SegmentConnectedComponents.New(img)\n",
    "        connComp.SetMinimumVolume(1000000)\n",
    "        connComp.Update()\n",
    "        img_mask = itk.GetArrayFromImage(connComp.GetOutput())\n",
    "        img_mask = np.where(img_mask>0,1,0)\n",
    "        keep = img_mask * ovrimg\n",
    "        keep = np.where(keep==0,keep+2,keep)\n",
    "        #itkkeep = itk.GetImageFromArray(keep.astype(np.ubyte))\n",
    "        #itk.imwrite(itkkeep, \"test.mha\", compression=True)\n",
    "        ovrimg = itk.GetArrayFromImage(ovrimg)\n",
    "        for val in [1,3]:\n",
    "            ovrimg = np.where(ovrimg==val,keep,ovrimg)\n",
    "            #itkimg = itk.GetImageFromArray(ovrimg.astype(np.ubyte))\n",
    "            #itk.imwrite(itkimg, \"test\"+str(val)+\".mha\", compression=True)\n",
    "        (filepath,filename) = os.path.split(data_overlay_paths[i])\n",
    "        new_name = filepath+\"/\"+filename.split('.')[0]+'.extruded-overlay.mha'\n",
    "        print(\"Writing\", new_name)\n",
    "        ovrimg = itk.GetImageFromArray(ovrimg.astype(np.ubyte))\n",
    "        itk.imwrite(ovrimg, new_name, compression=True)"
   ]
  },
  {
   "cell_type": "code",
   "execution_count": null,
   "metadata": {
    "scrolled": true
   },
   "outputs": [
    {
     "name": "stdout",
     "output_type": "stream",
     "text": [
      "Processing ../../Data/VFoldData/BAMC-PTXSliding-Annotations-Linear/004s_iimage_73815992352100_clean.interpolated-overlay.mha\n",
      "Writing ../../Data/VFoldData/BAMC-PTXSliding-Annotations-Linear/004s_iimage_73815992352100_clean.extruded-overlay.mha\n",
      "Processing ../../Data/VFoldData/BAMC-PTXSliding-Annotations-Linear/004s_iimage_74132233134844_clean.interpolated-overlay.mha\n",
      "Writing ../../Data/VFoldData/BAMC-PTXSliding-Annotations-Linear/004s_iimage_74132233134844_clean.extruded-overlay.mha\n",
      "Processing ../../Data/VFoldData/BAMC-PTXSliding-Annotations-Linear/019s_iimage_10705997566592_CLEAN.interpolated-overlay.mha\n",
      "Writing ../../Data/VFoldData/BAMC-PTXSliding-Annotations-Linear/019s_iimage_10705997566592_CLEAN.extruded-overlay.mha\n",
      "Processing ../../Data/VFoldData/BAMC-PTXSliding-Annotations-Linear/019s_iimage_10891015221417_clean.interpolated-overlay.mha\n",
      "Writing ../../Data/VFoldData/BAMC-PTXSliding-Annotations-Linear/019s_iimage_10891015221417_clean.extruded-overlay.mha\n",
      "Processing ../../Data/VFoldData/BAMC-PTXSliding-Annotations-Linear/030s_iimage_1180496934444_clean.interpolated-overlay.mha\n",
      "Writing ../../Data/VFoldData/BAMC-PTXSliding-Annotations-Linear/030s_iimage_1180496934444_clean.extruded-overlay.mha\n",
      "Processing ../../Data/VFoldData/BAMC-PTXSliding-Annotations-Linear/030s_iimage_677741729740_clean.interpolated-overlay.mha\n",
      "Writing ../../Data/VFoldData/BAMC-PTXSliding-Annotations-Linear/030s_iimage_677741729740_clean.extruded-overlay.mha\n",
      "Processing ../../Data/VFoldData/BAMC-PTXSliding-Annotations-Linear/034s_iimage_3368391807672_clean.interpolated-overlay.mha\n",
      "Writing ../../Data/VFoldData/BAMC-PTXSliding-Annotations-Linear/034s_iimage_3368391807672_clean.extruded-overlay.mha\n",
      "Processing ../../Data/VFoldData/BAMC-PTXSliding-Annotations-Linear/034s_iimage_3401832241774_clean.interpolated-overlay.mha\n",
      "Writing ../../Data/VFoldData/BAMC-PTXSliding-Annotations-Linear/034s_iimage_3401832241774_clean.extruded-overlay.mha\n",
      "Processing ../../Data/VFoldData/BAMC-PTXSliding-Annotations-Linear/037s_iimage_588413346180_CLEAN.interpolated-overlay.mha\n",
      "Writing ../../Data/VFoldData/BAMC-PTXSliding-Annotations-Linear/037s_iimage_588413346180_CLEAN.extruded-overlay.mha\n",
      "Processing ../../Data/VFoldData/BAMC-PTXSliding-Annotations-Linear/043s_iimage_10391571128899_CLEAN.interpolated-overlay.mha\n",
      "Writing ../../Data/VFoldData/BAMC-PTXSliding-Annotations-Linear/043s_iimage_10391571128899_CLEAN.extruded-overlay.mha\n",
      "Processing ../../Data/VFoldData/BAMC-PTXSliding-Annotations-Linear/043s_iimage_10395655826502_CLEAN.interpolated-overlay.mha\n",
      "Writing ../../Data/VFoldData/BAMC-PTXSliding-Annotations-Linear/043s_iimage_10395655826502_CLEAN.extruded-overlay.mha\n",
      "Processing ../../Data/VFoldData/BAMC-PTXSliding-Annotations-Linear/065s_iimage_1896534330004_clean.interpolated-overlay.mha\n",
      "Writing ../../Data/VFoldData/BAMC-PTXSliding-Annotations-Linear/065s_iimage_1896534330004_clean.extruded-overlay.mha\n",
      "Processing ../../Data/VFoldData/BAMC-PTXSliding-Annotations-Linear/065s_iimage_1901852337971_clean.interpolated-overlay.mha\n",
      "Writing ../../Data/VFoldData/BAMC-PTXSliding-Annotations-Linear/065s_iimage_1901852337971_clean.extruded-overlay.mha\n",
      "Processing ../../Data/VFoldData/BAMC-PTXSliding-Annotations-Linear/081s_iimage_2959672151786_clean.interpolated-overlay.mha\n",
      "Writing ../../Data/VFoldData/BAMC-PTXSliding-Annotations-Linear/081s_iimage_2959672151786_clean.extruded-overlay.mha\n",
      "Processing ../../Data/VFoldData/BAMC-PTXSliding-Annotations-Linear/081s_iimage_3320344386805_clean.interpolated-overlay.mha\n",
      "Writing ../../Data/VFoldData/BAMC-PTXSliding-Annotations-Linear/081s_iimage_3320344386805_clean.extruded-overlay.mha\n",
      "Processing ../../Data/VFoldData/BAMC-PTXSliding-Annotations-Linear/206s_iimage_1499268364374_clean.interpolated-overlay.mha\n"
     ]
    }
   ],
   "source": [
    "#pathname = \"../../Data/VFoldData/BAMC-PTXNoSliding\"\n",
    "pathname = \"../../Data/VFoldData/BAMC-PTXSliding\"\n",
    "extrude_annotations(pathname)"
   ]
  },
  {
   "cell_type": "code",
   "execution_count": null,
   "metadata": {},
   "outputs": [],
   "source": [
    "pathname = \"../../Data/TrainingData/AR-UNet/BAMC-PTXSliding\"\n",
    "extrude_annotations(pathname)"
   ]
  },
  {
   "cell_type": "code",
   "execution_count": 73,
   "metadata": {},
   "outputs": [
    {
     "name": "stdout",
     "output_type": "stream",
     "text": [
      "Processing ../../Data/TestingData/BAMC-PTXNoSliding-Annotations-Linear\\image_417221672548_CLEAN.interpolated-overlay.mha\n",
      "Writing ../../Data/TestingData/BAMC-PTXNoSliding-Annotations-Linear/image_417221672548_CLEAN.extruded-overlay.mha\n",
      "Processing ../../Data/TestingData/BAMC-PTXNoSliding-Annotations-Linear\\image_426794579576_CLEAN.interpolated-overlay.mha\n",
      "Writing ../../Data/TestingData/BAMC-PTXNoSliding-Annotations-Linear/image_426794579576_CLEAN.extruded-overlay.mha\n",
      "Processing ../../Data/TestingData/BAMC-PTXSliding-Annotations-Linear\\image_3925135436261_clean.interpolated-overlay.mha\n",
      "Writing ../../Data/TestingData/BAMC-PTXSliding-Annotations-Linear/image_3925135436261_clean.extruded-overlay.mha\n",
      "Processing ../../Data/TestingData/BAMC-PTXSliding-Annotations-Linear\\image_3929217595322_clean.interpolated-overlay.mha\n",
      "Writing ../../Data/TestingData/BAMC-PTXSliding-Annotations-Linear/image_3929217595322_clean.extruded-overlay.mha\n"
     ]
    }
   ],
   "source": [
    "pathname = \"../../Data/TestingData/BAMC-PTXNoSliding\"\n",
    "extrude_annotations(pathname)\n",
    "pathname = \"../../Data/TestingData/BAMC-PTXSliding\"\n",
    "extrude_annotations(pathname)"
   ]
  },
  {
   "cell_type": "code",
   "execution_count": null,
   "metadata": {},
   "outputs": [],
   "source": []
  }
 ],
 "metadata": {
  "kernelspec": {
   "display_name": "Python 3 (ipykernel)",
   "language": "python",
   "name": "python3"
  },
  "language_info": {
   "codemirror_mode": {
    "name": "ipython",
    "version": 3
   },
   "file_extension": ".py",
   "mimetype": "text/x-python",
   "name": "python",
   "nbconvert_exporter": "python",
   "pygments_lexer": "ipython3",
   "version": "3.8.8"
  }
 },
 "nbformat": 4,
 "nbformat_minor": 4
}
