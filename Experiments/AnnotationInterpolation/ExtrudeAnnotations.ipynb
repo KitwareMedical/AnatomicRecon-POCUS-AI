{
 "cells": [
  {
   "cell_type": "code",
   "execution_count": 2,
   "metadata": {},
   "outputs": [],
   "source": [
    "import numpy as np\n",
    "import scipy as sp\n",
    "\n",
    "import scipy\n",
    "from scipy.stats import multivariate_normal\n",
    "from scipy       import optimize\n",
    "\n",
    "import skimage\n",
    "\n",
    "import matplotlib.pyplot as plt\n",
    "\n",
    "import pylab\n",
    "\n",
    "from glob import glob\n",
    "import sys\n",
    "import os\n",
    "\n",
    "import itk\n",
    "from itkwidgets import view\n",
    "\n",
    "from tqdm import tqdm\n",
    "\n",
    "import math\n",
    "\n",
    "from glob import glob\n",
    "\n",
    "import matplotlib.pyplot as plt\n",
    "\n",
    "import itk\n",
    "\n",
    "import av\n",
    "import ffmpeg\n",
    "\n",
    "import json\n",
    "\n",
    "import site\n",
    "site.addsitedir('../../ARGUS')\n",
    "from ARGUSUtils_IO import *\n",
    "from ARGUSUtils_Linearization import *"
   ]
  },
  {
   "cell_type": "code",
   "execution_count": 70,
   "metadata": {
    "scrolled": true
   },
   "outputs": [],
   "source": [
    "def extrude_column(img, col, val):\n",
    "    col = int(col)\n",
    "    for z in range(img.shape[0]):\n",
    "        val_count = np.count_nonzero(img[z,:,col]==val)\n",
    "        if val_count>0:\n",
    "            pos = np.where(img[z,:,col]==val)\n",
    "            first = pos[0][0]\n",
    "            last = pos[0][-1]\n",
    "            mid = (first+last)//2\n",
    "            img[z,:mid,col]=0\n",
    "            img[z,mid:,col]=val\n",
    "\n",
    "def extrude_annotations(pathname):\n",
    "    data_overlay_paths = sorted(glob(pathname+\"-Annotations-Linear/*_?????.interpolated-overlay.mha\"))\n",
    "    \n",
    "    num_overlays = len(data_overlay_paths)\n",
    "    for i in range(num_overlays):\n",
    "        ovrimg = itk.imread(data_overlay_paths[i], itk.F)\n",
    "        print(\"Processing\", data_overlay_paths[i])\n",
    "        for c in range(ovrimg.shape[2]):\n",
    "            nos = np.count_nonzero(ovrimg[:,:,c]==1)\n",
    "            rib = np.count_nonzero(ovrimg[:,:,c]==2)\n",
    "            sli = np.count_nonzero(ovrimg[:,:,c]==3)\n",
    "            if nos>0 and rib==0 and sli==0:\n",
    "                extrude_column(ovrimg,c,1)\n",
    "            elif nos==0 and rib>0 and sli==0:\n",
    "                extrude_column(ovrimg,c,2)\n",
    "            elif nos==0 and rib==0 and sli>0:\n",
    "                extrude_column(ovrimg,c,3)\n",
    "            else:\n",
    "                ovrimg[:,:,c]=0\n",
    "        (filepath,filename) = os.path.split(data_overlay_paths[i])\n",
    "        new_name = filepath+\"/\"+filename.split('.')[0]+'.extruded-overlay.mha'\n",
    "        print(\"Writing\", new_name)\n",
    "        itk.imwrite(ovrimg, new_name)"
   ]
  },
  {
   "cell_type": "code",
   "execution_count": null,
   "metadata": {},
   "outputs": [],
   "source": [
    "pathname = \"../../Data/TrainingData/AR-UNet/BAMC-PTXNoSliding\"\n",
    "extrude_annotations(pathname)"
   ]
  },
  {
   "cell_type": "code",
   "execution_count": 72,
   "metadata": {},
   "outputs": [
    {
     "name": "stdout",
     "output_type": "stream",
     "text": [
      "Processing ../../Data/TrainingData/AR-UNet/BAMC-PTXSliding-Annotations-Linear\\image_10391571128899_CLEAN.interpolated-overlay.mha\n",
      "Writing ../../Data/TrainingData/AR-UNet/BAMC-PTXSliding-Annotations-Linear/image_10391571128899_CLEAN.extruded-overlay.mha\n",
      "Processing ../../Data/TrainingData/AR-UNet/BAMC-PTXSliding-Annotations-Linear\\image_10395655826502_CLEAN.interpolated-overlay.mha\n",
      "Writing ../../Data/TrainingData/AR-UNet/BAMC-PTXSliding-Annotations-Linear/image_10395655826502_CLEAN.extruded-overlay.mha\n",
      "Processing ../../Data/TrainingData/AR-UNet/BAMC-PTXSliding-Annotations-Linear\\image_104543812690743_CLEAN.interpolated-overlay.mha\n",
      "Writing ../../Data/TrainingData/AR-UNet/BAMC-PTXSliding-Annotations-Linear/image_104543812690743_CLEAN.extruded-overlay.mha\n",
      "Processing ../../Data/TrainingData/AR-UNet/BAMC-PTXSliding-Annotations-Linear\\image_104548309385533_CLEAN.interpolated-overlay.mha\n",
      "Writing ../../Data/TrainingData/AR-UNet/BAMC-PTXSliding-Annotations-Linear/image_104548309385533_CLEAN.extruded-overlay.mha\n",
      "Processing ../../Data/TrainingData/AR-UNet/BAMC-PTXSliding-Annotations-Linear\\image_104932526155699_CLEAN.interpolated-overlay.mha\n",
      "Writing ../../Data/TrainingData/AR-UNet/BAMC-PTXSliding-Annotations-Linear/image_104932526155699_CLEAN.extruded-overlay.mha\n",
      "Processing ../../Data/TrainingData/AR-UNet/BAMC-PTXSliding-Annotations-Linear\\image_10705997566592_CLEAN.interpolated-overlay.mha\n",
      "Writing ../../Data/TrainingData/AR-UNet/BAMC-PTXSliding-Annotations-Linear/image_10705997566592_CLEAN.extruded-overlay.mha\n",
      "Processing ../../Data/TrainingData/AR-UNet/BAMC-PTXSliding-Annotations-Linear\\image_10891015221417_clean.interpolated-overlay.mha\n",
      "Writing ../../Data/TrainingData/AR-UNet/BAMC-PTXSliding-Annotations-Linear/image_10891015221417_clean.extruded-overlay.mha\n",
      "Processing ../../Data/TrainingData/AR-UNet/BAMC-PTXSliding-Annotations-Linear\\image_1139765223418_CLEAN.interpolated-overlay.mha\n",
      "Writing ../../Data/TrainingData/AR-UNet/BAMC-PTXSliding-Annotations-Linear/image_1139765223418_CLEAN.extruded-overlay.mha\n",
      "Processing ../../Data/TrainingData/AR-UNet/BAMC-PTXSliding-Annotations-Linear\\image_1180496934444_clean.interpolated-overlay.mha\n",
      "Writing ../../Data/TrainingData/AR-UNet/BAMC-PTXSliding-Annotations-Linear/image_1180496934444_clean.extruded-overlay.mha\n",
      "Processing ../../Data/TrainingData/AR-UNet/BAMC-PTXSliding-Annotations-Linear\\image_128683942015128_CLEAN.interpolated-overlay.mha\n",
      "Writing ../../Data/TrainingData/AR-UNet/BAMC-PTXSliding-Annotations-Linear/image_128683942015128_CLEAN.extruded-overlay.mha\n",
      "Processing ../../Data/TrainingData/AR-UNet/BAMC-PTXSliding-Annotations-Linear\\image_128688523296793_CLEAN.interpolated-overlay.mha\n",
      "Writing ../../Data/TrainingData/AR-UNet/BAMC-PTXSliding-Annotations-Linear/image_128688523296793_CLEAN.extruded-overlay.mha\n",
      "Processing ../../Data/TrainingData/AR-UNet/BAMC-PTXSliding-Annotations-Linear\\image_128692595484031_CLEAN.interpolated-overlay.mha\n",
      "Writing ../../Data/TrainingData/AR-UNet/BAMC-PTXSliding-Annotations-Linear/image_128692595484031_CLEAN.extruded-overlay.mha\n",
      "Processing ../../Data/TrainingData/AR-UNet/BAMC-PTXSliding-Annotations-Linear\\image_1327616672148_clean.interpolated-overlay.mha\n",
      "Writing ../../Data/TrainingData/AR-UNet/BAMC-PTXSliding-Annotations-Linear/image_1327616672148_clean.extruded-overlay.mha\n",
      "Processing ../../Data/TrainingData/AR-UNet/BAMC-PTXSliding-Annotations-Linear\\image_1499268364374_clean.interpolated-overlay.mha\n",
      "Writing ../../Data/TrainingData/AR-UNet/BAMC-PTXSliding-Annotations-Linear/image_1499268364374_clean.extruded-overlay.mha\n",
      "Processing ../../Data/TrainingData/AR-UNet/BAMC-PTXSliding-Annotations-Linear\\image_1511338287338_clean.interpolated-overlay.mha\n",
      "Writing ../../Data/TrainingData/AR-UNet/BAMC-PTXSliding-Annotations-Linear/image_1511338287338_clean.extruded-overlay.mha\n",
      "Processing ../../Data/TrainingData/AR-UNet/BAMC-PTXSliding-Annotations-Linear\\image_1896534330004_clean.interpolated-overlay.mha\n",
      "Writing ../../Data/TrainingData/AR-UNet/BAMC-PTXSliding-Annotations-Linear/image_1896534330004_clean.extruded-overlay.mha\n",
      "Processing ../../Data/TrainingData/AR-UNet/BAMC-PTXSliding-Annotations-Linear\\image_1901852337971_clean.interpolated-overlay.mha\n",
      "Writing ../../Data/TrainingData/AR-UNet/BAMC-PTXSliding-Annotations-Linear/image_1901852337971_clean.extruded-overlay.mha\n",
      "Processing ../../Data/TrainingData/AR-UNet/BAMC-PTXSliding-Annotations-Linear\\image_24164968068436_CLEAN.interpolated-overlay.mha\n",
      "Writing ../../Data/TrainingData/AR-UNet/BAMC-PTXSliding-Annotations-Linear/image_24164968068436_CLEAN.extruded-overlay.mha\n",
      "Processing ../../Data/TrainingData/AR-UNet/BAMC-PTXSliding-Annotations-Linear\\image_2959672151786_clean.interpolated-overlay.mha\n",
      "Writing ../../Data/TrainingData/AR-UNet/BAMC-PTXSliding-Annotations-Linear/image_2959672151786_clean.extruded-overlay.mha\n",
      "Processing ../../Data/TrainingData/AR-UNet/BAMC-PTXSliding-Annotations-Linear\\image_3308406916756_clean.interpolated-overlay.mha\n",
      "Writing ../../Data/TrainingData/AR-UNet/BAMC-PTXSliding-Annotations-Linear/image_3308406916756_clean.extruded-overlay.mha\n",
      "Processing ../../Data/TrainingData/AR-UNet/BAMC-PTXSliding-Annotations-Linear\\image_3315947589826_clean.interpolated-overlay.mha\n",
      "Writing ../../Data/TrainingData/AR-UNet/BAMC-PTXSliding-Annotations-Linear/image_3315947589826_clean.extruded-overlay.mha\n",
      "Processing ../../Data/TrainingData/AR-UNet/BAMC-PTXSliding-Annotations-Linear\\image_3320344386805_clean.interpolated-overlay.mha\n",
      "Writing ../../Data/TrainingData/AR-UNet/BAMC-PTXSliding-Annotations-Linear/image_3320344386805_clean.extruded-overlay.mha\n",
      "Processing ../../Data/TrainingData/AR-UNet/BAMC-PTXSliding-Annotations-Linear\\image_3321463845606_clean.interpolated-overlay.mha\n",
      "Writing ../../Data/TrainingData/AR-UNet/BAMC-PTXSliding-Annotations-Linear/image_3321463845606_clean.extruded-overlay.mha\n",
      "Processing ../../Data/TrainingData/AR-UNet/BAMC-PTXSliding-Annotations-Linear\\image_3368391807672_clean.interpolated-overlay.mha\n",
      "Writing ../../Data/TrainingData/AR-UNet/BAMC-PTXSliding-Annotations-Linear/image_3368391807672_clean.extruded-overlay.mha\n",
      "Processing ../../Data/TrainingData/AR-UNet/BAMC-PTXSliding-Annotations-Linear\\image_3384882513134_clean.interpolated-overlay.mha\n",
      "Writing ../../Data/TrainingData/AR-UNet/BAMC-PTXSliding-Annotations-Linear/image_3384882513134_clean.extruded-overlay.mha\n",
      "Processing ../../Data/TrainingData/AR-UNet/BAMC-PTXSliding-Annotations-Linear\\image_3401832241774_clean.interpolated-overlay.mha\n",
      "Writing ../../Data/TrainingData/AR-UNet/BAMC-PTXSliding-Annotations-Linear/image_3401832241774_clean.extruded-overlay.mha\n",
      "Processing ../../Data/TrainingData/AR-UNet/BAMC-PTXSliding-Annotations-Linear\\image_588413346180_CLEAN.interpolated-overlay.mha\n",
      "Writing ../../Data/TrainingData/AR-UNet/BAMC-PTXSliding-Annotations-Linear/image_588413346180_CLEAN.extruded-overlay.mha\n",
      "Processing ../../Data/TrainingData/AR-UNet/BAMC-PTXSliding-Annotations-Linear\\image_677741729740_clean.interpolated-overlay.mha\n",
      "Writing ../../Data/TrainingData/AR-UNet/BAMC-PTXSliding-Annotations-Linear/image_677741729740_clean.extruded-overlay.mha\n",
      "Processing ../../Data/TrainingData/AR-UNet/BAMC-PTXSliding-Annotations-Linear\\image_73815992352100_clean.interpolated-overlay.mha\n",
      "Writing ../../Data/TrainingData/AR-UNet/BAMC-PTXSliding-Annotations-Linear/image_73815992352100_clean.extruded-overlay.mha\n",
      "Processing ../../Data/TrainingData/AR-UNet/BAMC-PTXSliding-Annotations-Linear\\image_74132233134844_clean.interpolated-overlay.mha\n",
      "Writing ../../Data/TrainingData/AR-UNet/BAMC-PTXSliding-Annotations-Linear/image_74132233134844_clean.extruded-overlay.mha\n"
     ]
    }
   ],
   "source": [
    "pathname = \"../../Data/TrainingData/AR-UNet/BAMC-PTXSliding\"\n",
    "extrude_annotations(pathname)"
   ]
  },
  {
   "cell_type": "code",
   "execution_count": 73,
   "metadata": {},
   "outputs": [
    {
     "name": "stdout",
     "output_type": "stream",
     "text": [
      "Processing ../../Data/TestingData/BAMC-PTXNoSliding-Annotations-Linear\\image_417221672548_CLEAN.interpolated-overlay.mha\n",
      "Writing ../../Data/TestingData/BAMC-PTXNoSliding-Annotations-Linear/image_417221672548_CLEAN.extruded-overlay.mha\n",
      "Processing ../../Data/TestingData/BAMC-PTXNoSliding-Annotations-Linear\\image_426794579576_CLEAN.interpolated-overlay.mha\n",
      "Writing ../../Data/TestingData/BAMC-PTXNoSliding-Annotations-Linear/image_426794579576_CLEAN.extruded-overlay.mha\n",
      "Processing ../../Data/TestingData/BAMC-PTXSliding-Annotations-Linear\\image_3925135436261_clean.interpolated-overlay.mha\n",
      "Writing ../../Data/TestingData/BAMC-PTXSliding-Annotations-Linear/image_3925135436261_clean.extruded-overlay.mha\n",
      "Processing ../../Data/TestingData/BAMC-PTXSliding-Annotations-Linear\\image_3929217595322_clean.interpolated-overlay.mha\n",
      "Writing ../../Data/TestingData/BAMC-PTXSliding-Annotations-Linear/image_3929217595322_clean.extruded-overlay.mha\n"
     ]
    }
   ],
   "source": [
    "pathname = \"../../Data/TestingData/BAMC-PTXNoSliding\"\n",
    "extrude_annotations(pathname)\n",
    "pathname = \"../../Data/TestingData/BAMC-PTXSliding\"\n",
    "extrude_annotations(pathname)"
   ]
  },
  {
   "cell_type": "code",
   "execution_count": null,
   "metadata": {},
   "outputs": [],
   "source": []
  }
 ],
 "metadata": {
  "kernelspec": {
   "display_name": "Python 3",
   "language": "python",
   "name": "python3"
  },
  "language_info": {
   "codemirror_mode": {
    "name": "ipython",
    "version": 3
   },
   "file_extension": ".py",
   "mimetype": "text/x-python",
   "name": "python",
   "nbconvert_exporter": "python",
   "pygments_lexer": "ipython3",
   "version": "3.7.10"
  }
 },
 "nbformat": 4,
 "nbformat_minor": 4
}
