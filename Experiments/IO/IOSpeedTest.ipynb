{
 "cells": [
  {
   "cell_type": "code",
   "execution_count": 6,
   "id": "4009fc7a",
   "metadata": {},
   "outputs": [],
   "source": [
    "import imageio\n",
    "import ffmpeg\n",
    "\n",
    "import numpy as np\n",
    "\n",
    "import sys\n",
    "from glob import glob\n",
    "\n",
    "import site\n",
    "site.addsitedir('../../ARGUS')\n",
    "from ARGUSUtils import *"
   ]
  },
  {
   "cell_type": "code",
   "execution_count": 14,
   "id": "0507fafe",
   "metadata": {},
   "outputs": [],
   "source": [
    "data_paths = sorted(glob(\"../../Data/TestingData/BAMC-PTX*Sliding/*.m??\"))"
   ]
  },
  {
   "cell_type": "code",
   "execution_count": 21,
   "id": "bded97aa",
   "metadata": {},
   "outputs": [],
   "source": [
    "def shape_ffmpeg( filename ):\n",
    "    p = ffmpeg.probe(filename, select_streams='v');\n",
    "    width = p['streams'][0]['width']\n",
    "    height = p['streams'][0]['height']\n",
    "    return height, width\n",
    "\n",
    "def load_ffmpeg( filename, height, width ):\n",
    "    p = ffmpeg.probe(filename, select_streams='v');\n",
    "    width = p['streams'][0]['width']\n",
    "    height = p['streams'][0]['height']\n",
    "\n",
    "    in_bytes, _ = (\n",
    "        ffmpeg\n",
    "        .input(filename)\n",
    "        .video # Video only (no audio).\n",
    "        .output('pipe:', format='rawvideo', pix_fmt='gray')  # Set the output format to raw video in 8 bit grayscale\n",
    "        .run(capture_stdout=True)\n",
    "    )\n",
    "    n_frames = len(in_bytes) // (height*width)  # Compute the number of frames.\n",
    "    frames = np.frombuffer(in_bytes, np.uint8).reshape(n_frames, height, width) # Reshape buffer to array of n_frames frames (shape of each frame is (height, width)).\n",
    "    return frames"
   ]
  },
  {
   "cell_type": "code",
   "execution_count": 22,
   "id": "89a24849",
   "metadata": {},
   "outputs": [],
   "source": [
    "def load_imageio( filename, height, width ):\n",
    "    vid = imageio.get_reader(filename, 'ffmpeg')\n",
    "    num_frame = vid.count_frames()\n",
    "    img = np.empty((num_frame,height,width))\n",
    "    count = 0\n",
    "    for f in range(num_frame):\n",
    "        img[count] = np.squeeze(np.mean(vid.get_data(f),axis=2))\n",
    "        count += 1\n",
    "    return img"
   ]
  },
  {
   "cell_type": "code",
   "execution_count": 23,
   "id": "5ce4a6ee",
   "metadata": {},
   "outputs": [
    {
     "name": "stdout",
     "output_type": "stream",
     "text": [
      "Time for load_ffmpeg is 1.3368921999999657\n",
      "Time for load_imageio is 3.4808093999999983\n"
     ]
    }
   ],
   "source": [
    "height,width = shape_ffmpeg(data_paths[0])\n",
    "num_vid = 1 #len(data_paths)\n",
    "\n",
    "with time_this('load_ffmpeg'):\n",
    "    for i in range(num_vid):\n",
    "        img = load_ffmpeg(data_paths[i],height,width)\n",
    "\n",
    "with time_this('load_imageio'):\n",
    "    for i in range(num_vid):\n",
    "        img = load_imageio(data_paths[i],height,width)"
   ]
  },
  {
   "cell_type": "code",
   "execution_count": null,
   "id": "74f7a12c",
   "metadata": {},
   "outputs": [],
   "source": []
  }
 ],
 "metadata": {
  "kernelspec": {
   "display_name": "Python 3",
   "language": "python",
   "name": "python3"
  },
  "language_info": {
   "codemirror_mode": {
    "name": "ipython",
    "version": 3
   },
   "file_extension": ".py",
   "mimetype": "text/x-python",
   "name": "python",
   "nbconvert_exporter": "python",
   "pygments_lexer": "ipython3",
   "version": "3.7.10"
  }
 },
 "nbformat": 4,
 "nbformat_minor": 5
}
