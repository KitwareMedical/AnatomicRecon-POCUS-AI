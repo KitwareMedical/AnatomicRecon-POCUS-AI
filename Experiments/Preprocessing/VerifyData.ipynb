{
 "cells": [
  {
   "cell_type": "code",
   "execution_count": 1,
   "id": "faa1e0c6",
   "metadata": {},
   "outputs": [],
   "source": [
    "import sys\n",
    "from glob import glob\n",
    "\n",
    "import os"
   ]
  },
  {
   "cell_type": "code",
   "execution_count": 2,
   "id": "7a2653bb",
   "metadata": {},
   "outputs": [],
   "source": [
    "def check_ann(ann, slices, trim_from_end):\n",
    "    for i,org in enumerate(slices):\n",
    "        if not(org[:-4]+trim_from_end in ann):\n",
    "            print(\"Missing slice annotation = \", org[:-4]+trim_from_end)\n",
    "\n",
    "    for i,org in enumerate(ann):\n",
    "        if not(org[:-len(trim_from_end)]+\".mha\" in slices):\n",
    "            print(\"Missing source slice = \", org)"
   ]
  },
  {
   "cell_type": "code",
   "execution_count": 3,
   "id": "56e7e67c",
   "metadata": {},
   "outputs": [],
   "source": [
    "def check(base):\n",
    "    ann_base = base + \"-Annotations/\"\n",
    "    slices = sorted(list(map(os.path.basename, glob(base + \"-Sliced/*.m??\"))))\n",
    "    ann_org = sorted(list(map(os.path.basename, glob(ann_base+\"*f?????.mha\"))))\n",
    "    ann_overlay = sorted(list(map(os.path.basename, glob(ann_base+\"*f?????.overlay.mha\"))))\n",
    "    ann_boxes = sorted(list(map(os.path.basename, glob(ann_base+\"*f?????.boxes.json\"))))\n",
    "    print(\"Checking source slices...\")\n",
    "    check_ann(ann_org, slices, \".mha\")\n",
    "    print(\"Checking overlays...\")\n",
    "    check_ann(ann_overlay, slices, \".overlay.mha\")\n",
    "    print(\"Checking boxes...\")\n",
    "    check_ann(ann_boxes, slices, \".boxes.json\")"
   ]
  },
  {
   "cell_type": "code",
   "execution_count": 4,
   "id": "30e8ca46",
   "metadata": {},
   "outputs": [
    {
     "name": "stdout",
     "output_type": "stream",
     "text": [
      "Checking source slices...\n",
      "Missing slice annotation =  image_27185428518326_CLEAN.mp4-00009-f00058.mha\n",
      "Missing slice annotation =  image_426794579576_CLEAN.mp4-00007-f00033.mha\n",
      "Checking overlays...\n",
      "Missing slice annotation =  image_27185428518326_CLEAN.mp4-00009-f00058.overlay.mha\n",
      "Missing slice annotation =  image_426794579576_CLEAN.mp4-00007-f00033.overlay.mha\n",
      "Checking boxes...\n",
      "Missing slice annotation =  image_27185428518326_CLEAN.mp4-00009-f00058.boxes.json\n",
      "Missing slice annotation =  image_426794579576_CLEAN.mp4-00007-f00033.boxes.json\n",
      "Missing slice annotation =  image_584357289931_clean.mov-00000-f00000.boxes.json\n",
      "Missing slice annotation =  image_588695055398_clean.mov-00000-f00000.boxes.json\n"
     ]
    }
   ],
   "source": [
    "check(\"./BAMC-PTXNoSliding\")"
   ]
  },
  {
   "cell_type": "code",
   "execution_count": 5,
   "id": "f395ecec",
   "metadata": {},
   "outputs": [
    {
     "name": "stdout",
     "output_type": "stream",
     "text": [
      "Checking source slices...\n",
      "Checking overlays...\n",
      "Checking boxes...\n",
      "Missing slice annotation =  image_3384882513134_clean.mp4-00003-f00010.boxes.json\n",
      "Missing slice annotation =  image_677741729740_clean.mp4-00004-f00020.boxes.json\n"
     ]
    }
   ],
   "source": [
    "check(\"./BAMC-PTXSliding\")"
   ]
  }
 ],
 "metadata": {
  "kernelspec": {
   "display_name": "Python 3",
   "language": "python",
   "name": "python3"
  },
  "language_info": {
   "codemirror_mode": {
    "name": "ipython",
    "version": 3
   },
   "file_extension": ".py",
   "mimetype": "text/x-python",
   "name": "python",
   "nbconvert_exporter": "python",
   "pygments_lexer": "ipython3",
   "version": "3.7.10"
  }
 },
 "nbformat": 4,
 "nbformat_minor": 5
}
