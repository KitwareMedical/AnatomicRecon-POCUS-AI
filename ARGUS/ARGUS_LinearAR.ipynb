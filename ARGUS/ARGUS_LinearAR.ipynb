{
 "cells": [
  {
   "cell_type": "code",
   "execution_count": 1,
   "id": "83dc7edc",
   "metadata": {},
   "outputs": [
    {
     "name": "stderr",
     "output_type": "stream",
     "text": [
      "C:\\Users\\stephen.aylward\\AppData\\Local\\Continuum\\anaconda3\\lib\\site-packages\\h5py\\__init__.py:72: UserWarning: h5py is running against HDF5 1.10.2 when it was built against 1.10.3, this may cause problems\n",
      "  '{0}.{1}.{2}'.format(*version.hdf5_built_version_tuple)\n"
     ]
    },
    {
     "ename": "AttributeError",
     "evalue": "module 'itk' has no attribute 'itkARGUS'",
     "output_type": "error",
     "traceback": [
      "\u001b[1;31m---------------------------------------------------------------------------\u001b[0m",
      "\u001b[1;31mAttributeError\u001b[0m                            Traceback (most recent call last)",
      "\u001b[1;32m<ipython-input-1-2947bd8694a4>\u001b[0m in \u001b[0;36m<module>\u001b[1;34m\u001b[0m\n\u001b[0;32m     42\u001b[0m \u001b[1;32mfrom\u001b[0m \u001b[0mARGUSUtils\u001b[0m \u001b[1;32mimport\u001b[0m \u001b[1;33m*\u001b[0m\u001b[1;33m\u001b[0m\u001b[1;33m\u001b[0m\u001b[0m\n\u001b[0;32m     43\u001b[0m \u001b[1;32mfrom\u001b[0m \u001b[0mARGUSUtils_IO\u001b[0m \u001b[1;32mimport\u001b[0m \u001b[1;33m*\u001b[0m\u001b[1;33m\u001b[0m\u001b[1;33m\u001b[0m\u001b[0m\n\u001b[1;32m---> 44\u001b[1;33m \u001b[1;32mfrom\u001b[0m \u001b[0mARGUSUtils_Linearization\u001b[0m \u001b[1;32mimport\u001b[0m \u001b[1;33m*\u001b[0m\u001b[1;33m\u001b[0m\u001b[1;33m\u001b[0m\u001b[0m\n\u001b[0m\u001b[0;32m     45\u001b[0m \u001b[1;32mfrom\u001b[0m \u001b[0mARGUSUtils_Transforms\u001b[0m \u001b[1;32mimport\u001b[0m \u001b[1;33m*\u001b[0m\u001b[1;33m\u001b[0m\u001b[1;33m\u001b[0m\u001b[0m\n\u001b[0;32m     46\u001b[0m \u001b[1;32mfrom\u001b[0m \u001b[0mARGUSUtils_ARNet\u001b[0m \u001b[1;32mimport\u001b[0m \u001b[1;33m*\u001b[0m\u001b[1;33m\u001b[0m\u001b[1;33m\u001b[0m\u001b[0m\n",
      "\u001b[1;32mC:\\src\\AnatomicRecon-POCUS-AI\\ARGUS\\ARGUSUtils_Linearization.py\u001b[0m in \u001b[0;36m<module>\u001b[1;34m\u001b[0m\n\u001b[0;32m     12\u001b[0m \u001b[1;33m\u001b[0m\u001b[0m\n\u001b[0;32m     13\u001b[0m \u001b[1;32mimport\u001b[0m \u001b[0mitk\u001b[0m\u001b[1;33m\u001b[0m\u001b[1;33m\u001b[0m\u001b[0m\n\u001b[1;32m---> 14\u001b[1;33m \u001b[0mitkResampleImageUsingMapFilter\u001b[0m \u001b[1;33m=\u001b[0m \u001b[0mitk\u001b[0m\u001b[1;33m.\u001b[0m\u001b[0mitkARGUS\u001b[0m\u001b[1;33m.\u001b[0m\u001b[0mResampleImageUsingMapFilter\u001b[0m\u001b[1;33m\u001b[0m\u001b[1;33m\u001b[0m\u001b[0m\n\u001b[0m\u001b[0;32m     15\u001b[0m \u001b[1;33m\u001b[0m\u001b[0m\n\u001b[0;32m     16\u001b[0m \u001b[1;33m\u001b[0m\u001b[0m\n",
      "\u001b[1;32mC:\\src\\ITK-Release\\Wrapping\\Generators\\Python\\itk\\support\\lazy.py\u001b[0m in \u001b[0;36m__getattribute__\u001b[1;34m(self, attr)\u001b[0m\n\u001b[0;32m    128\u001b[0m \u001b[1;33m\u001b[0m\u001b[0m\n\u001b[0;32m    129\u001b[0m     \u001b[1;32mdef\u001b[0m \u001b[0m__getattribute__\u001b[0m\u001b[1;33m(\u001b[0m\u001b[0mself\u001b[0m\u001b[1;33m,\u001b[0m \u001b[0mattr\u001b[0m\u001b[1;33m)\u001b[0m\u001b[1;33m:\u001b[0m\u001b[1;33m\u001b[0m\u001b[1;33m\u001b[0m\u001b[0m\n\u001b[1;32m--> 130\u001b[1;33m         \u001b[0mvalue\u001b[0m \u001b[1;33m=\u001b[0m \u001b[0mtypes\u001b[0m\u001b[1;33m.\u001b[0m\u001b[0mModuleType\u001b[0m\u001b[1;33m.\u001b[0m\u001b[0m__getattribute__\u001b[0m\u001b[1;33m(\u001b[0m\u001b[0mself\u001b[0m\u001b[1;33m,\u001b[0m \u001b[0mattr\u001b[0m\u001b[1;33m)\u001b[0m\u001b[1;33m\u001b[0m\u001b[1;33m\u001b[0m\u001b[0m\n\u001b[0m\u001b[0;32m    131\u001b[0m         \u001b[1;32mif\u001b[0m \u001b[0mvalue\u001b[0m \u001b[1;32mis\u001b[0m \u001b[0mnot_loaded\u001b[0m\u001b[1;33m:\u001b[0m\u001b[1;33m\u001b[0m\u001b[1;33m\u001b[0m\u001b[0m\n\u001b[0;32m    132\u001b[0m             \u001b[1;32mwith\u001b[0m \u001b[0mtype\u001b[0m\u001b[1;33m(\u001b[0m\u001b[0mself\u001b[0m\u001b[1;33m)\u001b[0m\u001b[1;33m.\u001b[0m\u001b[0mget_lock\u001b[0m\u001b[1;33m(\u001b[0m\u001b[1;33m)\u001b[0m\u001b[1;33m:\u001b[0m  \u001b[1;31m# All but one thread will block here.\u001b[0m\u001b[1;33m\u001b[0m\u001b[1;33m\u001b[0m\u001b[0m\n",
      "\u001b[1;31mAttributeError\u001b[0m: module 'itk' has no attribute 'itkARGUS'"
     ]
    }
   ],
   "source": [
    "from monai.utils import first, set_determinism\n",
    "from monai.transforms import (\n",
    "    AsDiscrete,\n",
    "    Lambda,\n",
    "    Resize,\n",
    "    ScaleIntensityRange,\n",
    "    SpatialCrop,\n",
    "    ToTensor,\n",
    ")\n",
    "from monai.handlers.utils import from_engine\n",
    "from monai.networks.nets import UNet\n",
    "from monai.networks.layers import Norm\n",
    "from monai.metrics import DiceMetric\n",
    "from monai.losses import DiceLoss\n",
    "from monai.inferers import sliding_window_inference\n",
    "from monai.data import CacheDataset, DataLoader, Dataset, decollate_batch\n",
    "from monai.config import print_config\n",
    "from monai.apps import download_and_extract\n",
    "import monai.utils as utils\n",
    "\n",
    "import torch\n",
    "import tempfile\n",
    "import shutil\n",
    "import os\n",
    "import sys\n",
    "\n",
    "import numpy as np\n",
    "import skimage\n",
    "\n",
    "from scipy.stats import multivariate_normal\n",
    "from scipy.stats import mode\n",
    "\n",
    "import ffmpeg\n",
    "import av\n",
    "\n",
    "import itk\n",
    "from itk import TubeTK as ttk\n",
    "\n",
    "from time import perf_counter\n",
    "from contextlib import contextmanager\n",
    "\n",
    "from ARGUSUtils import *\n",
    "from ARGUSUtils_IO import *\n",
    "from ARGUSUtils_Linearization import *\n",
    "from ARGUSUtils_Transforms import *\n",
    "from ARGUSUtils_ARNet import *"
   ]
  },
  {
   "cell_type": "code",
   "execution_count": null,
   "id": "8ebe5d45",
   "metadata": {},
   "outputs": [],
   "source": [
    "filename = \"../Data/Final15/BAMC-PTXNoSliding/Do_Not_Use/219ns_image_1895283541879_clean.mov\"\n",
    "#filename = \"../Data/Final15/BAMC-PTXSliding/212s_image_128692595484031_CLEAN.mov\""
   ]
  },
  {
   "cell_type": "code",
   "execution_count": null,
   "id": "4d75768c",
   "metadata": {},
   "outputs": [],
   "source": [
    "height,width = shape_video(filename)\n",
    "\n",
    "with time_this(\"Load Time:\"):\n",
    "    us_video = load_video(filename,height,width)\n",
    "with time_this(\"Linearization Time:\"):\n",
    "    us_video_linear = linearize_video(us_video).transpose([2,1,0])"
   ]
  },
  {
   "cell_type": "code",
   "execution_count": null,
   "id": "84c9918e",
   "metadata": {},
   "outputs": [],
   "source": [
    "device = torch.device(\"cpu\")"
   ]
  },
  {
   "cell_type": "code",
   "execution_count": null,
   "id": "74614ea5",
   "metadata": {},
   "outputs": [],
   "source": [
    "arnet_model_filename = \"./Models/BAMC_PTX_ARUNET-3D-PR-Final15/best_model.vfold_0.pth\"\n",
    "\n",
    "with time_this(\"Load ARNet model\"):\n",
    "    arnet_model = arnet_load_model(arnet_model_filename)"
   ]
  },
  {
   "cell_type": "code",
   "execution_count": null,
   "id": "9d0b243b",
   "metadata": {},
   "outputs": [],
   "source": [
    "with time_this(\"Preprocess for ARNet\"):\n",
    "    arnet_input_tensor = arnet_preprocess_image(us_video_linear)\n",
    "\n",
    "itk.imwrite(itk.GetImageFromArray(arnet_input_array[0,0].astype(np.float32)), \"ARUNet_preprocessed_input.mha\")"
   ]
  },
  {
   "cell_type": "code",
   "execution_count": null,
   "id": "fa4d1854",
   "metadata": {
    "scrolled": false
   },
   "outputs": [],
   "source": [
    "with time_this(\"ARNet Inference Time:\"):\n",
    "    arnet_output = arnet_inference(arnet_input_tensor, arnet_model, device)\n",
    "    \n",
    "itk.imwrite(arnet_output, \"ARUNet_output.mha\")"
   ]
  },
  {
   "cell_type": "code",
   "execution_count": null,
   "id": "498ff385",
   "metadata": {},
   "outputs": [],
   "source": [
    "with time_this(\"CPU ROI Extraction Time:\"):\n",
    "    roinet_input_roi = roinet_segment_roi(arnet_input_tensor, arnet_output)\n",
    "\n",
    "itk.imwrite(itk.GetImageFromArray(roinet_input_roi[0,0]), \"ROINet_input_roi.mha\")"
   ]
  },
  {
   "cell_type": "code",
   "execution_count": null,
   "id": "56aa1e37",
   "metadata": {},
   "outputs": [],
   "source": [
    "roinet_model_filename = \"./Models/BAMC_PTX_ROINet-StdDevExtended-ExtrudedNS-Final15/best_model.vfold_0.pth\"\n",
    "\n",
    "with time_this(\"Load ROINet model\"):\n",
    "    roinet_model = roinet_load_model(roinet_model_filename)"
   ]
  },
  {
   "cell_type": "code",
   "execution_count": null,
   "id": "a24de397",
   "metadata": {},
   "outputs": [],
   "source": [
    "with time_this(\"Preprocess for ROINet\"):\n",
    "    roinet_input_tensor = roinet_preprocess_image(roinet_input_roi)\n",
    "\n",
    "itk.imwrite(itk.GetImageFromArray(roinet_input_array[0,0].astype(np.float32)), \"ROINet_preprocessed_input.mha\")"
   ]
  },
  {
   "cell_type": "code",
   "execution_count": null,
   "id": "4d496235",
   "metadata": {},
   "outputs": [],
   "source": [
    "with time_this(\"ROINet Inference Time:\"):\n",
    "    decision, not_sliding_count, sliding_count = roinet_inference(roinet_input_tensor, roinet_model, device, True)\n",
    "\n",
    "print(decision)"
   ]
  },
  {
   "cell_type": "code",
   "execution_count": null,
   "id": "0642c044",
   "metadata": {},
   "outputs": [],
   "source": []
  }
 ],
 "metadata": {
  "kernelspec": {
   "display_name": "Python 3",
   "language": "python",
   "name": "python3"
  },
  "language_info": {
   "codemirror_mode": {
    "name": "ipython",
    "version": 3
   },
   "file_extension": ".py",
   "mimetype": "text/x-python",
   "name": "python",
   "nbconvert_exporter": "python",
   "pygments_lexer": "ipython3",
   "version": "3.7.10"
  }
 },
 "nbformat": 4,
 "nbformat_minor": 5
}
