{
 "cells": [
  {
   "cell_type": "code",
   "execution_count": 7,
   "id": "83dc7edc",
   "metadata": {},
   "outputs": [],
   "source": [
    "import numpy as np\n",
    "\n",
    "from scipy.stats import multivariate_normal\n",
    "from scipy.stats import mode\n",
    "\n",
    "import skimage\n",
    "\n",
    "import sys\n",
    "from glob import glob\n",
    "\n",
    "import itk\n",
    "from itkwidgets import view\n",
    "\n",
    "from time import perf_counter\n",
    "from contextlib import contextmanager\n",
    "\n",
    "import ffmpeg\n",
    "\n",
    "from ARGUSUtils import *"
   ]
  },
  {
   "cell_type": "code",
   "execution_count": 8,
   "id": "8ebe5d45",
   "metadata": {},
   "outputs": [],
   "source": [
    "data_paths = sorted(glob(\"../Data/TestingData/BAMC-PTX*Sliding/*.m??\"))"
   ]
  },
  {
   "cell_type": "code",
   "execution_count": 9,
   "id": "4d75768c",
   "metadata": {},
   "outputs": [
    {
     "ename": "NameError",
     "evalue": "name 'ffmpeg' is not defined",
     "output_type": "error",
     "traceback": [
      "\u001b[1;31m---------------------------------------------------------------------------\u001b[0m",
      "\u001b[1;31mNameError\u001b[0m                                 Traceback (most recent call last)",
      "\u001b[1;32m<ipython-input-9-8c1fb966c051>\u001b[0m in \u001b[0;36m<module>\u001b[1;34m\u001b[0m\n\u001b[0;32m      7\u001b[0m \u001b[0mim\u001b[0m \u001b[1;33m=\u001b[0m \u001b[1;33m[\u001b[0m\u001b[1;33m]\u001b[0m\u001b[1;33m\u001b[0m\u001b[1;33m\u001b[0m\u001b[0m\n\u001b[0;32m      8\u001b[0m \u001b[1;33m\u001b[0m\u001b[0m\n\u001b[1;32m----> 9\u001b[1;33m \u001b[0mheight\u001b[0m\u001b[1;33m,\u001b[0m\u001b[0mwidth\u001b[0m \u001b[1;33m=\u001b[0m \u001b[0mshape_ffmpeg\u001b[0m\u001b[1;33m(\u001b[0m\u001b[0mdata_paths\u001b[0m\u001b[1;33m[\u001b[0m\u001b[1;36m0\u001b[0m\u001b[1;33m]\u001b[0m\u001b[1;33m)\u001b[0m\u001b[1;33m\u001b[0m\u001b[1;33m\u001b[0m\u001b[0m\n\u001b[0m\u001b[0;32m     10\u001b[0m \u001b[1;33m\u001b[0m\u001b[0m\n\u001b[0;32m     11\u001b[0m \u001b[1;32mfor\u001b[0m \u001b[0mi\u001b[0m \u001b[1;32min\u001b[0m \u001b[0mrange\u001b[0m\u001b[1;33m(\u001b[0m\u001b[0mnum_vid\u001b[0m\u001b[1;33m)\u001b[0m\u001b[1;33m:\u001b[0m\u001b[1;33m\u001b[0m\u001b[1;33m\u001b[0m\u001b[0m\n",
      "\u001b[1;32mC:\\src\\AnatomicRecon-POCUS-AI\\ARGUS\\ARGUSUtils.py\u001b[0m in \u001b[0;36mshape_ffmpeg\u001b[1;34m(filename)\u001b[0m\n\u001b[0;32m     21\u001b[0m     \u001b[1;32myield\u001b[0m\u001b[1;33m\u001b[0m\u001b[1;33m\u001b[0m\u001b[0m\n\u001b[0;32m     22\u001b[0m     \u001b[0mprint\u001b[0m\u001b[1;33m(\u001b[0m\u001b[1;34m'Time for'\u001b[0m\u001b[1;33m,\u001b[0m \u001b[0mname\u001b[0m\u001b[1;33m,\u001b[0m \u001b[1;34m'is'\u001b[0m\u001b[1;33m,\u001b[0m \u001b[0mperf_counter\u001b[0m\u001b[1;33m(\u001b[0m\u001b[1;33m)\u001b[0m \u001b[1;33m-\u001b[0m \u001b[0mstart\u001b[0m\u001b[1;33m)\u001b[0m\u001b[1;33m\u001b[0m\u001b[1;33m\u001b[0m\u001b[0m\n\u001b[1;32m---> 23\u001b[1;33m \u001b[1;33m\u001b[0m\u001b[0m\n\u001b[0m\u001b[0;32m     24\u001b[0m \u001b[1;32mdef\u001b[0m \u001b[0mshape_ffmpeg\u001b[0m\u001b[1;33m(\u001b[0m \u001b[0mfilename\u001b[0m \u001b[1;33m)\u001b[0m\u001b[1;33m:\u001b[0m\u001b[1;33m\u001b[0m\u001b[1;33m\u001b[0m\u001b[0m\n\u001b[0;32m     25\u001b[0m     \u001b[0mp\u001b[0m \u001b[1;33m=\u001b[0m \u001b[0mffmpeg\u001b[0m\u001b[1;33m.\u001b[0m\u001b[0mprobe\u001b[0m\u001b[1;33m(\u001b[0m\u001b[0mfilename\u001b[0m\u001b[1;33m,\u001b[0m \u001b[0mselect_streams\u001b[0m\u001b[1;33m=\u001b[0m\u001b[1;34m'v'\u001b[0m\u001b[1;33m)\u001b[0m\u001b[1;33m;\u001b[0m\u001b[1;33m\u001b[0m\u001b[1;33m\u001b[0m\u001b[0m\n",
      "\u001b[1;31mNameError\u001b[0m: name 'ffmpeg' is not defined"
     ]
    }
   ],
   "source": [
    "####\n",
    "# Read the testing videos\n",
    "####\n",
    "num_vid = 5 #len(data_paths)\n",
    "step_frame = 2\n",
    "\n",
    "im = []\n",
    "\n",
    "height,width = shape_ffmpeg(data_paths[0])\n",
    "\n",
    "for i in range(num_vid):\n",
    "    im.append(load_ffmpeg(data_paths[i],height,width))"
   ]
  },
  {
   "cell_type": "code",
   "execution_count": 5,
   "id": "b2d72606",
   "metadata": {},
   "outputs": [
    {
     "ename": "NameError",
     "evalue": "name 'im' is not defined",
     "output_type": "error",
     "traceback": [
      "\u001b[1;31m---------------------------------------------------------------------------\u001b[0m",
      "\u001b[1;31mNameError\u001b[0m                                 Traceback (most recent call last)",
      "\u001b[1;32m<ipython-input-5-3334824f3452>\u001b[0m in \u001b[0;36m<module>\u001b[1;34m\u001b[0m\n\u001b[1;32m----> 1\u001b[1;33m \u001b[0mview\u001b[0m\u001b[1;33m(\u001b[0m\u001b[0mim\u001b[0m\u001b[1;33m[\u001b[0m\u001b[1;36m0\u001b[0m\u001b[1;33m]\u001b[0m\u001b[1;33m)\u001b[0m\u001b[1;33m\u001b[0m\u001b[1;33m\u001b[0m\u001b[0m\n\u001b[0m",
      "\u001b[1;31mNameError\u001b[0m: name 'im' is not defined"
     ]
    }
   ],
   "source": [
    "view(im[0])"
   ]
  },
  {
   "cell_type": "code",
   "execution_count": null,
   "id": "8c4b85cc",
   "metadata": {},
   "outputs": [],
   "source": [
    "######\n",
    "#Depth and Zoom Estimation\n",
    "######\n",
    "\n",
    "\n",
    "# Compute an image that is the mean of the first num_vid frames\n",
    "for i in range(num_vid):\n",
    "    img = np.squeeze(np.mean(im[i][1:2],axis=0))\n",
    "    tic_depth, tic_scale = get_depth_and_zoom_C52(img)\n",
    "    print(i, data_paths[i])\n",
    "    print(\"   \", tic_depth, \"cm @ scale = \", tic_scale)"
   ]
  },
  {
   "cell_type": "code",
   "execution_count": null,
   "id": "9d0b243b",
   "metadata": {},
   "outputs": [],
   "source": []
  }
 ],
 "metadata": {
  "kernelspec": {
   "display_name": "Python 3",
   "language": "python",
   "name": "python3"
  },
  "language_info": {
   "codemirror_mode": {
    "name": "ipython",
    "version": 3
   },
   "file_extension": ".py",
   "mimetype": "text/x-python",
   "name": "python",
   "nbconvert_exporter": "python",
   "pygments_lexer": "ipython3",
   "version": "3.7.10"
  }
 },
 "nbformat": 4,
 "nbformat_minor": 5
}
